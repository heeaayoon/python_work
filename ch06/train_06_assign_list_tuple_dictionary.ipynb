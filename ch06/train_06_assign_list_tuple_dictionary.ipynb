{
 "cells": [
  {
   "cell_type": "markdown",
   "id": "2eb177cf",
   "metadata": {},
   "source": [
    "실습 과제 1:\n",
    "\n",
    "1. 아래의 점수 리스트에서 60점 이상만 추출하는 코드를 리스트 comprehension 작성.\n",
    "2. 짝수 인덱스에 해당하는 점수만 출력 (슬라이싱 사용).\n",
    "3. 점수 리스트에서 **70점 이상이면 '합격', 아니면 '불합격'**으로 변환된 결과 리스트.\n",
    "\n",
    "scores = [55, 89, 76, 45, 90, 66, 72]"
   ]
  },
  {
   "cell_type": "code",
   "execution_count": 6,
   "id": "a9e66258",
   "metadata": {},
   "outputs": [
    {
     "name": "stdout",
     "output_type": "stream",
     "text": [
      "[89, 76, 90, 66, 72]\n",
      "[76, 90, 72]\n",
      "['불합격', '합격', '합격', '불합격', '합격', '불합격', '합격']\n"
     ]
    }
   ],
   "source": [
    "scores = [55, 89, 76, 45, 90, 66, 72]\n",
    "score1 = [s for s in scores if s >=60]\n",
    "print(score1)\n",
    "score2 = scores[2::2]\n",
    "print(score2)\n",
    "score3 = ['합격' if s>=70 else '불합격' for s in scores]\n",
    "print(score3)\n"
   ]
  },
  {
   "cell_type": "markdown",
   "id": "4d3af019",
   "metadata": {},
   "source": [
    "실습 과제 2:\n",
    "\n",
    "1. (이름, 점수) 튜플이 있는 리스트에서 80점 이상인 학생 이름만 출력.\n",
    "2. **점수가 60점 미만인 학생 이름만 '재시험 대상자'**로 출력하는 리스트.\n",
    "\n",
    "students = [(\"홍길동\", 85), (\"김유신\", 58), (\"이순신\", 76), (\"강감찬\", 45), (\"유관순\", 92)]"
   ]
  },
  {
   "cell_type": "code",
   "execution_count": 14,
   "id": "00f3f39a",
   "metadata": {},
   "outputs": [
    {
     "name": "stdout",
     "output_type": "stream",
     "text": [
      "['홍길동', '유관순']\n",
      "[None, '재시험 대상자', None, '재시험 대상자', None]\n"
     ]
    }
   ],
   "source": [
    "students = [(\"홍길동\", 85), (\"김유신\", 58), (\"이순신\", 76), (\"강감찬\", 45), (\"유관순\", 92)]\n",
    "student1 = [name for name, score in students if score>=80]\n",
    "print(student1)\n",
    "student2 = ['재시험 대상자' if score<60 else None for name,score in students ] \n",
    "print(student2)"
   ]
  },
  {
   "cell_type": "markdown",
   "id": "1026153d",
   "metadata": {},
   "source": [
    "실습 과제 3:\n",
    "\n",
    "1. 아래 딕셔너리에서 점수가 70점 이상인 학생 이름 리스트.\n",
    "2. 점수가 가장 높은 학생의 이름과 점수를 출력. (힌트: max() 사용)\n",
    "\n",
    "score_dict = {\n",
    "    \"홍길동\": 85,\n",
    "    \"김유신\": 58,\n",
    "    \"이순신\": 76,\n",
    "    \"강감찬\": 45,\n",
    "    \"유관순\": 92\n",
    "}"
   ]
  },
  {
   "cell_type": "code",
   "execution_count": 23,
   "id": "7c35bd4d",
   "metadata": {},
   "outputs": [
    {
     "name": "stdout",
     "output_type": "stream",
     "text": [
      "['홍길동', '이순신', '유관순']\n",
      "유관순\n"
     ]
    }
   ],
   "source": [
    "score_dict = {\n",
    "    \"홍길동\": 85,\n",
    "    \"김유신\": 58,\n",
    "    \"이순신\": 76,\n",
    "    \"강감찬\": 45,\n",
    "    \"유관순\": 92\n",
    "}\n",
    "st1 = [name for name,score in score_dict.items() if score>=70]\n",
    "print(st1)\n",
    "st2 = max(score_dict, key = lambda k : score_dict[k])\n",
    "print(st2)\n",
    "\n"
   ]
  },
  {
   "cell_type": "markdown",
   "id": "5f327b0d",
   "metadata": {},
   "source": [
    "실습 과제 4:\n",
    "\n",
    "1. 번호와 이름을 같이 출력하는 문자열 리스트. (예: \"1. 홍길동\")\n",
    "2. 짝수 번호(1번, 3번...) 학생만 필터링해서 출력.\n",
    "\n",
    "names = [\"홍길동\", \"김유신\", \"이순신\", \"강감찬\", \"유관순\"]\n",
    "\n",
    "- 예시 결과: ['1. 홍길동', '3. 이순신', '5. 유관순']"
   ]
  },
  {
   "cell_type": "code",
   "execution_count": 25,
   "id": "fd68839a",
   "metadata": {},
   "outputs": [
    {
     "name": "stdout",
     "output_type": "stream",
     "text": [
      "{1: '홍길동', 2: '김유신', 3: '이순신', 4: '강감찬', 5: '유관순'}\n"
     ]
    }
   ],
   "source": [
    "names = [\"홍길동\", \"김유신\", \"이순신\", \"강감찬\", \"유관순\"]\n",
    "name_dict = {i : name for i, name in enumerate(names, start=1)}\n",
    "print(name_dict)\n",
    "\n"
   ]
  },
  {
   "cell_type": "markdown",
   "id": "052147a5",
   "metadata": {},
   "source": [
    "실습 과제 5:\n",
    "\n",
    "1. 이름과 점수를 묶어서 \"이름: 점수점\" 형식의 리스트.\n",
    "2. 점수가 80점 이상인 경우에만 \"이름: 합격\" 문자열 리스트.\n",
    "\n",
    "names = [\"홍길동\", \"김유신\", \"이순신\", \"강감찬\", \"유관순\"]\n",
    "scores = [85, 58, 76, 45, 92]"
   ]
  },
  {
   "cell_type": "code",
   "execution_count": null,
   "id": "787d1c4b",
   "metadata": {},
   "outputs": [],
   "source": [
    "names = [\"홍길동\", \"김유신\", \"이순신\", \"강감찬\", \"유관순\"]\n",
    "scores = [85, 58, 76, 45, 92]"
   ]
  },
  {
   "cell_type": "markdown",
   "id": "d611dfe8",
   "metadata": {},
   "source": [
    "실습 과제 6:\n",
    "\n",
    "zip(), enumerate(), 조건, 슬라이싱을 모두 활용해서 \"홀수 번호 학생 중 점수가 80점 이상이면 '합격' 아니면 '불합격'\"으로 출력하는 문자열 리스트.\n",
    "\n",
    "예시 출력: ['1. 홍길동 - 합격', '3. 이순신 - 불합격', '5. 유관순 - 합격']"
   ]
  },
  {
   "cell_type": "code",
   "execution_count": null,
   "id": "7d746f22",
   "metadata": {},
   "outputs": [],
   "source": [
    "\n",
    "names = [\"홍길동\", \"김유신\", \"이순신\", \"강감찬\", \"유관순\"]\n",
    "scores = [85, 58, 76, 45, 92]"
   ]
  }
 ],
 "metadata": {
  "kernelspec": {
   "display_name": "Python 3",
   "language": "python",
   "name": "python3"
  },
  "language_info": {
   "codemirror_mode": {
    "name": "ipython",
    "version": 3
   },
   "file_extension": ".py",
   "mimetype": "text/x-python",
   "name": "python",
   "nbconvert_exporter": "python",
   "pygments_lexer": "ipython3",
   "version": "3.9.13"
  }
 },
 "nbformat": 4,
 "nbformat_minor": 5
}
