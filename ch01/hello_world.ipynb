{
 "cells": [
  {
   "cell_type": "markdown",
   "id": "7e720523",
   "metadata": {},
   "source": [
    ".ipynb = IPython Notebook을 줄인말\n",
    "- jupyter: Julia, Python, R 언어에서 따온 이름 -> 여러 언어를 지원하는 과학.데이터 중심의 노트북을 만들겠다는 의미\n",
    "- Julia 언어: 최근 등장 언어: 과학계산, 수치해석, 인공지능, 고성능 컴퓨팅 용도로 파이썬처럼 사용하기가 쉬우면서 C처럼 빠른 언어\n",
    "- R 언어: 통계 분석과 데이터 시각화에 특화된 언어 -> 통계 분석 언어로 시작"
   ]
  },
  {
   "cell_type": "code",
   "execution_count": 1,
   "id": "4318d924",
   "metadata": {},
   "outputs": [
    {
     "name": "stdout",
     "output_type": "stream",
     "text": [
      "hello world\n"
     ]
    }
   ],
   "source": [
    "print(\"hello world\")"
   ]
  }
 ],
 "metadata": {
  "kernelspec": {
   "display_name": "Python 3",
   "language": "python",
   "name": "python3"
  },
  "language_info": {
   "codemirror_mode": {
    "name": "ipython",
    "version": 3
   },
   "file_extension": ".py",
   "mimetype": "text/x-python",
   "name": "python",
   "nbconvert_exporter": "python",
   "pygments_lexer": "ipython3",
   "version": "3.9.13"
  }
 },
 "nbformat": 4,
 "nbformat_minor": 5
}
