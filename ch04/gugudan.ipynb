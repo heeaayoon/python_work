{
 "cells": [
  {
   "cell_type": "code",
   "execution_count": null,
   "id": "e9490156",
   "metadata": {},
   "outputs": [
    {
     "name": "stdout",
     "output_type": "stream",
     "text": [
      "['2X1=2', '2X2=4', '2X3=6', '2X4=8', '2X5=10', '2X6=12', '2X7=14', '2X8=16', '2X9=18']\n",
      "['3X1=3', '3X2=6', '3X3=9', '3X4=12', '3X5=15', '3X6=18', '3X7=21', '3X8=24', '3X9=27']\n",
      "['4X1=4', '4X2=8', '4X3=12', '4X4=16', '4X5=20', '4X6=24', '4X7=28', '4X8=32', '4X9=36']\n",
      "['5X1=5', '5X2=10', '5X3=15', '5X4=20', '5X5=25', '5X6=30', '5X7=35', '5X8=40', '5X9=45']\n",
      "['6X1=6', '6X2=12', '6X3=18', '6X4=24', '6X5=30', '6X6=36', '6X7=42', '6X8=48', '6X9=54']\n",
      "['7X1=7', '7X2=14', '7X3=21', '7X4=28', '7X5=35', '7X6=42', '7X7=49', '7X8=56', '7X9=63']\n",
      "['8X1=8', '8X2=16', '8X3=24', '8X4=32', '8X5=40', '8X6=48', '8X7=56', '8X8=64', '8X9=72']\n",
      "['9X1=9', '9X2=18', '9X3=27', '9X4=36', '9X5=45', '9X6=54', '9X7=63', '9X8=72', '9X9=81']\n"
     ]
    }
   ],
   "source": [
    "# list comprehension을 이용한 구구단 출력\n",
    "tup= (9,8)\n",
    "rows, cols = tup\n",
    "matrix = [[f\"{j+2}X{i+1}={(i+1)*(j+2)}\" for i in range(rows)]for j in range(cols)]\n",
    "#print(matrix)\n",
    "\n",
    "for row in matrix:\n",
    "    print(row)"
   ]
  },
  {
   "cell_type": "code",
   "execution_count": null,
   "id": "ff71e361",
   "metadata": {},
   "outputs": [
    {
     "name": "stdout",
     "output_type": "stream",
     "text": [
      "2X1=2\t2X2=4\t2X3=6\t2X4=8\t2X5=10\t2X6=12\t2X7=14\t2X8=16\t2X9=18\n",
      "3X1=3\t3X2=6\t3X3=9\t3X4=12\t3X5=15\t3X6=18\t3X7=21\t3X8=24\t3X9=27\n",
      "4X1=4\t4X2=8\t4X3=12\t4X4=16\t4X5=20\t4X6=24\t4X7=28\t4X8=32\t4X9=36\n",
      "5X1=5\t5X2=10\t5X3=15\t5X4=20\t5X5=25\t5X6=30\t5X7=35\t5X8=40\t5X9=45\n",
      "6X1=6\t6X2=12\t6X3=18\t6X4=24\t6X5=30\t6X6=36\t6X7=42\t6X8=48\t6X9=54\n",
      "7X1=7\t7X2=14\t7X3=21\t7X4=28\t7X5=35\t7X6=42\t7X7=49\t7X8=56\t7X9=63\n",
      "8X1=8\t8X2=16\t8X3=24\t8X4=32\t8X5=40\t8X6=48\t8X7=56\t8X8=64\t8X9=72\n",
      "9X1=9\t9X2=18\t9X3=27\t9X4=36\t9X5=45\t9X6=54\t9X7=63\t9X8=72\t9X9=81\n"
     ]
    }
   ],
   "source": [
    "#수정\n",
    "dan = range(2,10) #2단~9단\n",
    "mul = range(1,10) #곱하는 수는 1~9\n",
    "matrix = [[f\"{j}X{i}={(i*j)}\" for i in mul]for j in dan]\n",
    "#print(matrix)\n",
    "\n",
    "for d in matrix: \n",
    "    #print(*d) #*row : unpacking -> 리스트를 개별 문자열로 풀어줌\n",
    "    print(*d,sep='\\t') #sep : seperator로 함수에서 출력할 여러 값들 사이에 넣을 구분 문자를 지정하는 옵션(파라미터)"
   ]
  }
 ],
 "metadata": {
  "kernelspec": {
   "display_name": "Python 3",
   "language": "python",
   "name": "python3"
  },
  "language_info": {
   "codemirror_mode": {
    "name": "ipython",
    "version": 3
   },
   "file_extension": ".py",
   "mimetype": "text/x-python",
   "name": "python",
   "nbconvert_exporter": "python",
   "pygments_lexer": "ipython3",
   "version": "3.9.13"
  }
 },
 "nbformat": 4,
 "nbformat_minor": 5
}
