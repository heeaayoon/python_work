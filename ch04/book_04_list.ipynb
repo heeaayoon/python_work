{
 "cells": [
  {
   "cell_type": "code",
   "execution_count": null,
   "id": "108f3372",
   "metadata": {},
   "outputs": [
    {
     "name": "stdout",
     "output_type": "stream",
     "text": [
      "bmw\n",
      "차 이름은 bmw\n",
      "audi\n",
      "차 이름은 audi\n",
      "toyota\n",
      "차 이름은 toyota\n",
      "k5\n",
      "차 이름은 k5\n",
      "sorento\n",
      "차 이름은 sorento\n",
      "성공적으로 종료\n"
     ]
    }
   ],
   "source": [
    "#4.1 전체 리스트 순회하기 \n",
    "cars = ['bmw','audi','toyota','k5','sorento']\n",
    "for car in cars: # 확장형 for문 -> loop 블록의 시작과 끝은 들여쓰기로 구분함\n",
    "    print(car)\n",
    "    print(f'차 이름은 {car}')\n",
    "print(\"성공적으로 종료\")"
   ]
  },
  {
   "cell_type": "code",
   "execution_count": null,
   "id": "8890b6ba",
   "metadata": {},
   "outputs": [
    {
     "name": "stdout",
     "output_type": "stream",
     "text": [
      "range(1, 6)\n",
      "1\n",
      "2\n",
      "3\n",
      "4\n",
      "5\n"
     ]
    }
   ],
   "source": [
    "#4.3 숫자 리스트 만들기\n",
    "lst = range(1,6) #lst는 1~5를 만드는 객체\n",
    "print(lst)\n",
    "\n",
    "for val in lst:\n",
    "    print(val)"
   ]
  },
  {
   "cell_type": "code",
   "execution_count": 7,
   "id": "88fe2bcb",
   "metadata": {},
   "outputs": [
    {
     "name": "stdout",
     "output_type": "stream",
     "text": [
      "1\n",
      "2\n",
      "3\n",
      "4\n",
      "[1, 2, 3, 4]\n",
      "[1, 4, 9, 16, 25, 36, 49]\n"
     ]
    }
   ],
   "source": [
    "# 4.3.1 range() 함수\n",
    "for value in range(1,5):\n",
    "    print(value)\n",
    "\n",
    "# 4.3.2 range() 로 숫자 리스트 생성 \n",
    "numbers = list(range(1,5))\n",
    "print(numbers)\n",
    "\n",
    "squares = []\n",
    "for val in range(1,8):\n",
    "    squares.append(val**2)\n",
    "print(squares)"
   ]
  },
  {
   "cell_type": "code",
   "execution_count": null,
   "id": "083a7233",
   "metadata": {},
   "outputs": [
    {
     "name": "stdout",
     "output_type": "stream",
     "text": [
      "[1, 4, 9, 16, 25, 36, 49]\n",
      "1\n",
      "2\n",
      "3\n",
      "4\n",
      "5\n",
      "6\n",
      "7\n",
      "8\n",
      "9\n",
      "10\n",
      "11\n",
      "12\n",
      "13\n",
      "14\n",
      "15\n",
      "16\n",
      "17\n",
      "18\n",
      "19\n",
      "20\n",
      "[1, 3, 5, 7, 9, 11, 13, 15, 17, 19]\n",
      "[3, 6, 9, 12, 15, 18, 21, 24, 27, 30]\n",
      "[0, 1, 8, 27, 64, 125, 216, 343, 512, 729, 1000]\n"
     ]
    }
   ],
   "source": [
    "# 4.3.4 list comprehension\n",
    "squares = [val**2 for val in range(1,8)]\n",
    "print(squares)\n",
    "\n",
    "# 4-3 20까지 세기\n",
    "for i in range(1,21):\n",
    "    print(i)\n",
    "\n",
    "# 4-6 1~20 사이의 홀수 리스트 출력하기\n",
    "odds = [i for i in range(1,21) if i%2!=0]\n",
    "print(odds)\n",
    "\n",
    "# 4-7 3~30 사이의 3 배수 리스트 출력하기\n",
    "nums = [n for n in range(3,31) if n%3==0]\n",
    "print(nums)\n",
    "\n",
    "# 4-8 1~10 정수 세제곱 리스트 출력하기\n",
    "ele = [e**3 for e in range(11)]\n",
    "print(ele)"
   ]
  },
  {
   "cell_type": "code",
   "execution_count": null,
   "id": "980cb581",
   "metadata": {},
   "outputs": [
    {
     "name": "stdout",
     "output_type": "stream",
     "text": [
      "['cha', 'mar', 'mic']\n",
      "['cha', 'mar', 'mic', 'flo']\n",
      "['mic', 'flo', 'eli']\n",
      "cha\n",
      "mar\n",
      "mic\n",
      "1653587020672\n",
      "1653587021248\n",
      "['pizza', 'coffee', 'cream']\n",
      "['pizza', 'coffee', 'cream']\n",
      "복사본만 수정\n",
      "['pizza', 'coffee', 'cream']\n",
      "['pizza', 'coffee', 'cream', 'dd']\n",
      "리스트 참조할당\n",
      "['pizza', 'coffee', 'cream', 'dd']\n",
      "['pizza', 'coffee', 'cream', 'dd']\n",
      "리스트의 처음 세 항복은 ['cha', 'mar', 'mic']\n",
      "리스트의 처음 세 항복은 ['mar', 'mic', 'flo']\n",
      "리스트의 마지막 세 항복은 ['mic', 'flo', 'eli']\n"
     ]
    }
   ],
   "source": [
    "# 4.4.1 슬라이스\n",
    "players = ['cha','mar','mic','flo','eli']\n",
    "print(players[0:3])\n",
    "print(players[0:4])\n",
    "print(players[-3:]) # 끝에서 3번째 요소부터 정방향으로 끝까지 출력 = 무조건 3개 요소 출력\n",
    "\n",
    "# 4.4.2 슬라이스 순회\n",
    "players = ['cha','mar','mic','flo','eli']\n",
    "for player in players[:3]:\n",
    "    print(player)\n",
    "\n",
    "# 4.4.3 리스트 복사\n",
    "food = ['pizza', 'coffee','cream']\n",
    "new_food = food[:] # 새로운 객체를 생성 \n",
    "print(id(food))\n",
    "print(id(new_food))\n",
    "print(food)\n",
    "print(new_food)\n",
    "print('복사본만 수정')\n",
    "new_food.append('dd')\n",
    "print(food)\n",
    "print(new_food)\n",
    "\n",
    "# cf. 리스트 참조 할당 : 동일한 객체에 새로운 이름만 부여\n",
    "food = ['pizza', 'coffee','cream']\n",
    "new_food2 = food\n",
    "new_food2.append('dd')\n",
    "print('리스트 참조할당')\n",
    "print(food)\n",
    "print(new_food2)\n",
    "\n",
    "# 4-10 슬라이스\n",
    "players = ['cha','mar','mic','flo','eli']\n",
    "player1 = players[:3]\n",
    "print('리스트의 처음 세 항목은', player1)\n",
    "player2 = players[1:4]\n",
    "print('리스트의 처음 세 항목은', player2)\n",
    "player3 = players[-3:]\n",
    "print('리스트의 마지막 세 항목은', player3)\n"
   ]
  },
  {
   "cell_type": "code",
   "execution_count": 40,
   "id": "9593f8d4",
   "metadata": {},
   "outputs": [
    {
     "name": "stdout",
     "output_type": "stream",
     "text": [
      "200\n",
      "200\n",
      "50\n",
      "100\n",
      "10\n"
     ]
    }
   ],
   "source": [
    "# 4.5.1 튜플 정의하기\n",
    "dimensions = (200,50)\n",
    "print(dimensions[0]) #튜플의 요소에 접근은 가능\n",
    "#dimensions[0] = 250 #'tuple' object does not support item assignment #튜플의 요소는 수정 불가\n",
    "\n",
    "# 4.5.2 튜플 순회\n",
    "for dimension in dimensions:\n",
    "    print(dimension)\n",
    "\n",
    "# 4.5.3 튜플 덮어쓰기\n",
    "dimensions = (100,10)\n",
    "for dimension in dimensions:\n",
    "    print(dimension)\n"
   ]
  }
 ],
 "metadata": {
  "kernelspec": {
   "display_name": "Python 3",
   "language": "python",
   "name": "python3"
  },
  "language_info": {
   "codemirror_mode": {
    "name": "ipython",
    "version": 3
   },
   "file_extension": ".py",
   "mimetype": "text/x-python",
   "name": "python",
   "nbconvert_exporter": "python",
   "pygments_lexer": "ipython3",
   "version": "3.9.13"
  }
 },
 "nbformat": 4,
 "nbformat_minor": 5
}
