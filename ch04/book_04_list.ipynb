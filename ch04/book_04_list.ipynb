{
 "cells": [
  {
   "cell_type": "code",
   "execution_count": null,
   "id": "108f3372",
   "metadata": {},
   "outputs": [
    {
     "name": "stdout",
     "output_type": "stream",
     "text": [
      "bmw\n",
      "차 이름은 bmw\n",
      "audi\n",
      "차 이름은 audi\n",
      "toyota\n",
      "차 이름은 toyota\n",
      "k5\n",
      "차 이름은 k5\n",
      "sorento\n",
      "차 이름은 sorento\n",
      "성공적으로 종료\n"
     ]
    }
   ],
   "source": [
    "#4.1 전체 리스트 순회하기 \n",
    "cars = ['bmw','audi','toyota','k5','sorento']\n",
    "for car in cars: # 확장형 for문 -> loop 블록의 시작과 끝은 들여쓰기로 구분함\n",
    "    print(car)\n",
    "    print(f'차 이름은 {car}')\n",
    "print(\"성공적으로 종료\")"
   ]
  },
  {
   "cell_type": "code",
   "execution_count": null,
   "id": "8890b6ba",
   "metadata": {},
   "outputs": [
    {
     "name": "stdout",
     "output_type": "stream",
     "text": [
      "range(1, 6)\n",
      "1\n",
      "2\n",
      "3\n",
      "4\n",
      "5\n"
     ]
    }
   ],
   "source": [
    "#4.3 숫자 리스트 만들기\n",
    "lst = range(1,6) #lst는 1~5를 만드는 객체\n",
    "print(lst)\n",
    "\n",
    "for val in lst:\n",
    "    print(val)"
   ]
  }
 ],
 "metadata": {
  "kernelspec": {
   "display_name": "Python 3",
   "language": "python",
   "name": "python3"
  },
  "language_info": {
   "codemirror_mode": {
    "name": "ipython",
    "version": 3
   },
   "file_extension": ".py",
   "mimetype": "text/x-python",
   "name": "python",
   "nbconvert_exporter": "python",
   "pygments_lexer": "ipython3",
   "version": "3.9.13"
  }
 },
 "nbformat": 4,
 "nbformat_minor": 5
}
