{
 "cells": [
  {
   "cell_type": "markdown",
   "id": "c3eb6be7",
   "metadata": {},
   "source": [
    ".ipynb = IPython Notebook을 줄인말\n",
    "- jupyter: Julia, Python, R 언어에서 따온 이름 -> 여러 언어를 지원하는 과학.데이터 중심의 노트북을 만들겠다는 의미\n",
    "- Julia 언어: 최근 등장 언어: 과학계산, 수치해석, 인공지능, 고성능 컴퓨팅 용도로 파이썬처럼 사용하기가 쉬우면서 C처럼 빠른 언어\n",
    "- R 언어: 통계 분석과 데이터 시각화에 특화된 언어 -> 통계 분석 언어로 시작\n"
   ]
  },
  {
   "cell_type": "markdown",
   "id": "98cc175f",
   "metadata": {},
   "source": [
    "4.5 튜플(tuple)\n",
    "\n",
    "a = (1,2,3)\n",
    "\n",
    "수정 불가능, 속도 빠름, 불변 데이터 저장 "
   ]
  },
  {
   "cell_type": "markdown",
   "id": "a6e2aa63",
   "metadata": {},
   "source": [
    "함수 반환 값으로 튜플을 사용하는 이유:\n",
    "- 함수 리턴을 튜플로 하는 이유는 “반환값은 고정된 구조이며, 절대 바꾸지 말라”는 의도 전달과 안정성 확보 때문."
   ]
  },
  {
   "cell_type": "code",
   "execution_count": 12,
   "id": "f5e8cb23",
   "metadata": {},
   "outputs": [
    {
     "name": "stdout",
     "output_type": "stream",
     "text": [
      "(3, 1)\n",
      "3\n",
      "3 1\n",
      "(1, 2, 3, 4)\n"
     ]
    }
   ],
   "source": [
    "# 튜플은 항상 같이 사용되는 짝 개념 -> 그래서 변경이 안되는 것\n",
    "def divide(a, b):\n",
    "    return a // b, a % b  # (몫(정수), 나머지) 튜플로 반환\n",
    "\n",
    "result = divide(10, 3) # 튜플로 변경 불가(immutable)\n",
    "print(result)  # (3,1)\n",
    "#result[0] = 10 # 튜플은 수정이 불가하므로 에러 발생 \n",
    "qty = result[0] # 수정은 불가하지만 읽을 수는 있음\n",
    "print(qty)\n",
    "a,b  = result # 튜플 unpacking\n",
    "print(a,b)\n",
    "\n",
    "t=(1,2,3,4) # 튜플 packing\n",
    "print(t)"
   ]
  },
  {
   "cell_type": "code",
   "execution_count": 16,
   "id": "c993e757",
   "metadata": {},
   "outputs": [
    {
     "name": "stdout",
     "output_type": "stream",
     "text": [
      "(11, 22, 33)\n",
      "1 2 3\n"
     ]
    }
   ],
   "source": [
    "t = 11,22,33 #파이썬에서 괄호 없이 ,로 나열하면 그 자체가 튜플이다 # packing\n",
    "print(t)\n",
    "#t[0] = 99 # 튜플은 수정불가\n",
    "a,b,c = 1,2,3 #우측은 tuple이고 unpacking되어 좌변에 할당 # unpacking\n",
    "print(a,b,c)"
   ]
  },
  {
   "cell_type": "markdown",
   "id": "a2d0f65b",
   "metadata": {},
   "source": [
    "enumerate가 튜플을 반환하는 이유?\n",
    "- enumerate() : 리스트나 이터러블을 반복할 때, 인덱스와 값을 함께 얻고 싶을 때 쓰는 함수.\n",
    "- [(0, 'apple'), (1, 'banana'), (2, 'cherry')] 형태로 반환함\n",
    "> 답: 인덱스와 값을 한 쌍으로 묶기 위해 튜플이 딱 적절함"
   ]
  },
  {
   "cell_type": "code",
   "execution_count": 24,
   "id": "9b7ab3d1",
   "metadata": {},
   "outputs": [
    {
     "name": "stdout",
     "output_type": "stream",
     "text": [
      "<enumerate object at 0x0000017A88D4CCC0>\n",
      "<class 'enumerate'>\n",
      "0 apple\n",
      "1 banana\n",
      "2 cherry\n"
     ]
    }
   ],
   "source": [
    "fruits = ['apple', 'banana', 'cherry']\n",
    "print(enumerate(fruits)) # enumerate 객체를 반환\n",
    "print(type(enumerate(fruits)))\n",
    "for i, fruit in enumerate(fruits):\n",
    "    print(i, fruit)"
   ]
  },
  {
   "cell_type": "code",
   "execution_count": null,
   "id": "899e3287",
   "metadata": {},
   "outputs": [
    {
     "data": {
      "text/plain": [
       "[(0, 'apple'), (1, 'banana'), (2, 'cherry')]"
      ]
     },
     "execution_count": 6,
     "metadata": {},
     "output_type": "execute_result"
    }
   ],
   "source": [
    "list(enumerate(fruits)) # [(0, 'apple'), (1, 'banana'), (2, 'cherry')]"
   ]
  },
  {
   "cell_type": "markdown",
   "id": "c2c34047",
   "metadata": {},
   "source": [
    "zip() 함수가 tuple을 return하는 이유?\n",
    "\n",
    "- 고정된 쌍:\tzip은 각 요소끼리 묶는 고정된 구조를 만든다 → 튜플에 딱 맞음\n",
    "- 언패킹 편함:\tfor name, score in zip(...) 형태로 사용 가능\n",
    "- 불변성: \t묶인 쌍이 수정되면 의미가 깨짐 → 튜플로 안전하게 전달\n",
    "- 의미 전달:\t\"이 둘은 고정된 쌍이다\"라는 의도를 명확히 표현"
   ]
  },
  {
   "cell_type": "code",
   "execution_count": null,
   "id": "6a2faf6a",
   "metadata": {},
   "outputs": [
    {
     "name": "stdout",
     "output_type": "stream",
     "text": [
      "<zip object at 0x0000017A88D4CC00>\n",
      "<class 'zip'>\n",
      "[('Alice', 85), ('Bob', 92), ('Charlie', 78)]\n"
     ]
    }
   ],
   "source": [
    "names = ['Alice', 'Bob', 'Charlie']\n",
    "scores = [85, 92, 78]\n",
    "\n",
    "z = zip(names, scores)\n",
    "print(z) # zip 객체를 반환\n",
    "print(type(z))\n",
    "print(list(z))  # [('Alice', 85), ('Bob', 92), ('Charlie', 78)] # list(iterable 객체) : 리스트를 만들어줌\n"
   ]
  },
  {
   "cell_type": "markdown",
   "id": "51e8a60b",
   "metadata": {},
   "source": [
    "> enumerate, zip, map, filter 모두 다 iterator임\n",
    "\n",
    "> iterator는 __iter__(), __next__()메소드를 가지고 있어서 값을 하나씩 차례대로 꺼낼 수 있는 객체를 의미함"
   ]
  },
  {
   "cell_type": "code",
   "execution_count": 27,
   "id": "edae93dd",
   "metadata": {},
   "outputs": [
    {
     "name": "stdout",
     "output_type": "stream",
     "text": [
      "[1, 2]\n",
      "1\n",
      "2\n",
      "(2, 3)\n",
      "2\n",
      "3\n"
     ]
    }
   ],
   "source": [
    "l1= [a,b] = [1,2]\n",
    "l2 = (c,d)=(2,3)\n",
    "print(l1)\n",
    "print(a)\n",
    "print(b)\n",
    "print(l2)\n",
    "print(c)\n",
    "print(d)"
   ]
  },
  {
   "cell_type": "code",
   "execution_count": 33,
   "id": "d7994973",
   "metadata": {},
   "outputs": [
    {
     "name": "stdout",
     "output_type": "stream",
     "text": [
      "[54, 42, 96, 81, 22, 61, 7]\n",
      "[5, 5, 45, 59, 27, 49, 17]\n",
      "[75, 23, 23, 27, 23, 64, 45]\n",
      "[45, 68, 21, 78, 95, 36, 6]\n",
      "[51, 68, 25, 98, 84, 56, 69]\n",
      "\n",
      "두 번째 행 (튜플): (5, 5, 45, 59, 27, 49, 17)\n",
      "두 번째 행의 가운데 3개 요소 (슬라이싱): [5, 45, 59]\n",
      "\n",
      "행과 열이 모두 반전된 2차원 배열:\n",
      "[69, 56, 84, 98, 25, 68, 51]\n",
      "[6, 36, 95, 78, 21, 68, 45]\n",
      "[45, 64, 23, 27, 23, 23, 75]\n",
      "[17, 49, 27, 59, 45, 5, 5]\n",
      "[7, 61, 22, 81, 96, 42, 54]\n"
     ]
    }
   ],
   "source": [
    "import random\n",
    "\n",
    "# 행렬의 크기 정의 (5x7 행렬)\n",
    "rows, cols = 5, 7\n",
    "\n",
    "# 2차원 행렬을 난수로 초기화\n",
    "matrix = [[random.randint(0, 100) for _ in range(cols)] for _ in range(rows)]\n",
    "for x in matrix:\n",
    "    print(x)\n",
    "\n",
    "# 튜플을 사용하여 행렬의 특정 행(두 번째 행)을 저장하고 출력\n",
    "second_row_tuple = tuple(matrix[1])\n",
    "print(\"\\n두 번째 행 (튜플):\", second_row_tuple)\n",
    "\n",
    "# 튜플을 리스트로 변환하고 슬라이싱\n",
    "second_row_list = list(second_row_tuple)\n",
    "sliced_second_row = second_row_list[1:4]  # 중간 3개 요소만 슬라이싱\n",
    "print(\"두 번째 행의 가운데 3개 요소 (슬라이싱):\", sliced_second_row)\n",
    "\n",
    "# 행을 반전시키고, 각 행의 열도 반전시키기\n",
    "reversed_matrix = [row[::-1] for row in matrix[::-1]]\n",
    "\n",
    "print(\"\\n행과 열이 모두 반전된 2차원 배열:\")\n",
    "for row in reversed_matrix:\n",
    "    print(row)\n",
    "\n",
    "# 두 행렬의 덧셈을 위한 함수\n",
    "def matrix_addition(matrix1, matrix2):\n",
    "    # 두 행렬의 크기가 같다고 가정\n",
    "    rows = len(matrix1)\n",
    "    cols = len(matrix1[0])\n",
    "\n",
    "    # 결과를 저장할 행렬 초기화\n",
    "    result = [[0 for _ in range(cols)] for _ in range(rows)]\n",
    "\n",
    "    # 각 요소에 대해 더하기 연산 수행\n",
    "    for i in range(rows):\n",
    "        for j in range(cols):\n",
    "            result[i][j] = matrix1[i][j] + matrix2[i][j]\n",
    "\n",
    "    return result\n"
   ]
  },
  {
   "cell_type": "code",
   "execution_count": 34,
   "id": "f5cb5240",
   "metadata": {},
   "outputs": [
    {
     "name": "stdout",
     "output_type": "stream",
     "text": [
      "행렬 덧셈 결과:\n",
      "[10, 10, 10]\n",
      "[10, 10, 10]\n",
      "[10, 10, 10]\n",
      "행렬 곱셈 결과:\n",
      "[25, 28]\n",
      "[57, 64]\n",
      "[89, 100]\n"
     ]
    }
   ],
   "source": [
    "# 예시 행렬\n",
    "matrix1 = [\n",
    "    [1, 2, 3],\n",
    "    [4, 5, 6],\n",
    "    [7, 8, 9]\n",
    "]\n",
    "\n",
    "matrix2 = [\n",
    "    [9, 8, 7],\n",
    "    [6, 5, 4],\n",
    "    [3, 2, 1]\n",
    "]\n",
    "\n",
    "# 행렬 덧셈 결과 출력\n",
    "result_add = matrix_addition(matrix1, matrix2)\n",
    "print(\"행렬 덧셈 결과:\")\n",
    "for row in result_add:\n",
    "    print(row)\n",
    "\n",
    "# 두 행렬의 곱셈을 위한 함수\n",
    "def matrix_multiplication(matrix1, matrix2):\n",
    "    # matrix1의 열의 개수와 matrix2의 행의 개수가 같아야 함\n",
    "    rows_matrix1 = len(matrix1)\n",
    "    cols_matrix1 = len(matrix1[0])\n",
    "    cols_matrix2 = len(matrix2[0])\n",
    "\n",
    "    # 결과를 저장할 행렬 초기화\n",
    "    result = [[0 for _ in range(cols_matrix2)] for _ in range(rows_matrix1)]\n",
    "\n",
    "    # 각 요소에 대해 곱셈 연산 수행\n",
    "    for i in range(rows_matrix1):\n",
    "        for j in range(cols_matrix2):\n",
    "            for k in range(cols_matrix1):\n",
    "                result[i][j] += matrix1[i][k] * matrix2[k][j]\n",
    "\n",
    "    return result\n",
    "\n",
    "# 예시 행렬\n",
    "matrix1 = [\n",
    "    [1, 2],\n",
    "    [3, 4],\n",
    "    [5, 6]\n",
    "]\n",
    "\n",
    "matrix2 = [\n",
    "    [7, 8],\n",
    "    [9, 10]\n",
    "]\n",
    "\n",
    "# 행렬 곱셈 결과 출력\n",
    "result_mul = matrix_multiplication(matrix1, matrix2)\n",
    "print(\"행렬 곱셈 결과:\")\n",
    "for row in result_mul:\n",
    "    print(row)"
   ]
  },
  {
   "cell_type": "code",
   "execution_count": null,
   "id": "dff81222",
   "metadata": {},
   "outputs": [],
   "source": [
    "# 리스트 복사하기 (얕은 복사)\n",
    "l = [1, 2, 3]\n",
    "la = l  # la는 l의 참조, 같은 메모리 주소를 가리킴\n",
    "lb = l[:]  # lb는 l의 복사본, 서로 다른 메모리 주소\n",
    "\n",
    "# 리스트에 값 추가하기\n",
    "l.append(4)\n",
    "\n",
    "print(\"원본 리스트 l:\", l)       # [1, 2, 3, 4]\n",
    "print(\"참조한 리스트 la:\", la)   # [1, 2, 3, 4] (la는 l과 동일한 참조)\n",
    "print(\"복사된 리스트 lb:\", lb)   # [1, 2, 3] (lb는 독립적인 리스트)\n",
    "\n",
    "# 튜플 (immutable)\n",
    "t = (1, 2, 3)\n",
    "# t[0] = 10  # 에러: 튜플은 불변(immutable)하기 때문에 요소를 변경할 수 없음\n",
    "\n",
    "print(\"\\n튜플 t:\", t)  # (1, 2, 3)\n",
    "\n",
    "# 슬라이싱 예제 - 리스트는 [::] 형식만 지원\n",
    "matrix = [[0, 1, 2], [3, 4, 5], [6, 7, 8]]\n",
    "\n",
    "# 리스트 슬라이싱 (정상)\n",
    "print(\"\\n리스트 슬라이싱:\")\n",
    "print(matrix[::-1])  # 행을 역순으로 출력\n",
    "print([row[::-1] for row in matrix])  # 열을 역순으로 출력\n",
    "\n",
    "#print(matrix[:1, :1])을 구현하는 리스트 슬라이싱\n",
    "# 첫 번째 행에서 첫 번째 열만 슬라이싱 (== matrix[:1, :1])\n",
    "result = [row[:2] for row in matrix[:2]]\n",
    "\n",
    "print(result)\n",
    "# 잘못된 슬라이싱 시도 - 튜플로 인식되는 경우\n",
    "try:\n",
    "    print(matrix[::-1,::-1])  # 잘못된 사용, TypeError 발생\n",
    "except TypeError as e:\n",
    "    print(\"\\n에러 발생:\", e)\n",
    "\n",
    "lst1 = [a,b] = [1,2]\n",
    "tpl1 = (c,d) = (3,4)\n",
    "lst1[0] = 5\n",
    "#tpl1[0] = 7\n",
    "print(lst1)\n",
    "print(type(lst1[0]))\n",
    "print(type(tpl1[0]))\n",
    "num = range(10)\n",
    "type(num)\n",
    "num"
   ]
  },
  {
   "cell_type": "code",
   "execution_count": null,
   "id": "dba37d25",
   "metadata": {},
   "outputs": [],
   "source": [
    "# 파이썬의 배열 \n",
    "import array \n",
    "my_array = array.array('i', [1, 2, 3])  # 'i'는 정수(int)를 의미\n",
    "# 1차원 배열을 리스트로 묶어서 2차원 배열처럼 사용\n",
    "row1 = array.array('i', [1, 2, 3])\n",
    "row2 = array.array('i', [4, 5, 6])\n",
    "row3 = array.array('i', [7, 8, 9])\n",
    "\n",
    "matrix = [row1, row2, row3]  # 리스트로 2차원 배열처럼 표현\n",
    "\n",
    "# 2차원 배열처럼 접근\n",
    "print(matrix[0])     # 첫 번째 행 출력: [1, 2, 3]\n",
    "print(matrix[1][1])  # 두 번째 행의 두 번째 값 출력: 5\n",
    "#matrix[:1,:2] ##  리스트 인덱스는 튜플 사용 안됨\n",
    "### tuple\n",
    "tup = 10,20,30,40\n",
    "#tup[0] = 11\n",
    "print(tup[0])\n",
    "\n",
    "a,b,c = 10,20,30\n",
    "a,b = 11,22\n",
    "a,b = b, a\n",
    "print(f\"a= {a}, b = {b}\")\n",
    "def test():\n",
    "    return 10,20,30\n",
    "\n",
    "x,y,z = test()\n",
    "\n",
    "l = [1, 2, 3]\n",
    "for i, v in enumerate(l):\n",
    "    print(f\"i: {i}, v: {v}\")\n",
    "\n",
    "    # 3x5 행렬 생성\n",
    "matrix = [\n",
    "    [1, 2, 3, 4, 5],\n",
    "    [6, 7, 8, 9, 10],\n",
    "    [11, 12, 13, 14, 15]\n",
    "]\n",
    "\n",
    "print(\"원본 행렬:\")\n",
    "for row in matrix:\n",
    "    print(row)\n",
    "    \n",
    "# 전치 행렬 (행과 열을 뒤바꿈)\n",
    "transpose_matrix = [[row[i] for row in matrix] for i in range(len(matrix[0]))]\n",
    "\n",
    "print(\"\\n전치 행렬:\")\n",
    "for row in transpose_matrix:\n",
    "    print(row)"
   ]
  },
  {
   "cell_type": "markdown",
   "id": "324a1729",
   "metadata": {},
   "source": [
    "set comprehension & dictionary comprehension"
   ]
  },
  {
   "cell_type": "code",
   "execution_count": null,
   "id": "0a4ac725",
   "metadata": {},
   "outputs": [],
   "source": [
    "#set : {} 중복을 허용하지 않는 순서 없는(unordered) 요소들의 모음(집합)\n",
    "squares = {x**2 for x in range(5)}\n",
    "print(squares)  # 출력: {0, 1, 4, 9, 16}"
   ]
  },
  {
   "cell_type": "code",
   "execution_count": null,
   "id": "af2efd3c",
   "metadata": {},
   "outputs": [
    {
     "name": "stdout",
     "output_type": "stream",
     "text": [
      "{'g', 'i', 'l', 'm', 'r', 'c', 'h', 'a', 'n', 'e'}\n"
     ]
    }
   ],
   "source": [
    "word = \"machinelearning\"\n",
    "unique_chars = {ch for ch in word} # in 다음에 iterable객체가 위치해야함\n",
    "print(unique_chars)  # 출력 예: {'g', 'h', 'c', 'm', 'i', 'n', 'l', 'e', 'a', 'r'}"
   ]
  },
  {
   "cell_type": "code",
   "execution_count": 43,
   "id": "d2214975",
   "metadata": {},
   "outputs": [
    {
     "name": "stdout",
     "output_type": "stream",
     "text": [
      "{0: 0, 1: 1, 2: 4, 3: 9, 4: 16}\n"
     ]
    }
   ],
   "source": [
    "#dictionary : {key, value} 키(Key)와 값(Value)을 하나의 쌍으로 묶어서 저장하는, 순서가 있는 데이터 모음\n",
    "squares = {x: x**2 for x in range(5)}\n",
    "print(squares)  # {0: 0, 1: 1, 2: 4, 3: 9, 4: 16}"
   ]
  },
  {
   "cell_type": "code",
   "execution_count": 40,
   "id": "284056e8",
   "metadata": {},
   "outputs": [
    {
     "name": "stdout",
     "output_type": "stream",
     "text": [
      "{'a': 3, 'n': 2, 'b': 1}\n"
     ]
    }
   ],
   "source": [
    "word = \"banana\"\n",
    "char_count = {ch: word.count(ch) for ch in set(word)}\n",
    "print(char_count)  # {'b': 1, 'a': 3, 'n': 2}"
   ]
  }
 ],
 "metadata": {
  "kernelspec": {
   "display_name": "Python 3",
   "language": "python",
   "name": "python3"
  },
  "language_info": {
   "codemirror_mode": {
    "name": "ipython",
    "version": 3
   },
   "file_extension": ".py",
   "mimetype": "text/x-python",
   "name": "python",
   "nbconvert_exporter": "python",
   "pygments_lexer": "ipython3",
   "version": "3.9.13"
  }
 },
 "nbformat": 4,
 "nbformat_minor": 5
}
