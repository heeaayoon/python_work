{
 "cells": [
  {
   "cell_type": "markdown",
   "id": "c449703c",
   "metadata": {},
   "source": [
    "예제 1: 처음 5개 요소 추출"
   ]
  },
  {
   "cell_type": "markdown",
   "id": "b584ba0c",
   "metadata": {},
   "source": [
    "- range(1, 5) > iterable 객체 (range object) 생성 \n",
    "- list(range(1, 5)) > 리스트로 변환 → [1, 2, 3, 4]\n",
    "- for x in range(1, 5) > 내부적으로 반복자(iterator)를 사용함 -> list()로 리스트 생성 가능"
   ]
  },
  {
   "cell_type": "markdown",
   "id": "d03f098f",
   "metadata": {},
   "source": [
    "파이썬의 for문은 이터러블한 객체면 모두 사용 가능\n",
    "Iterable은 \"멤버를 하나씩 차례로 반환할 수 있는 객체\"를 의미합니다. 파이썬에서는 객체가 __iter__() 라는 특별한 메서드(special method)를 가지고 있으면 iterable 하다고 말합니다.\n",
    "- range(1, 5)는 내부적으로 __iter__()를 제공하므로 리스트처럼 반복이 가능\n",
    "- Iterable 하다 = for 루프 돌릴 수 있다."
   ]
  },
  {
   "cell_type": "code",
   "execution_count": 1,
   "id": "34621651",
   "metadata": {},
   "outputs": [
    {
     "name": "stdout",
     "output_type": "stream",
     "text": [
      "range(1, 5)\n",
      "[1, 2, 3, 4]\n",
      "1\n",
      "2\n",
      "3\n",
      "4\n"
     ]
    }
   ],
   "source": [
    "itr = range(1,5)\n",
    "print(itr) # itr은 iterable 객체임\n",
    "itr.__iter__ # __iter__() : 파이썬의 특수 메소드\n",
    "\n",
    "it = list(range(1,5)) #list(iterable 객체) : iterable 객체를 이용해 리스트를 만드는 함수\n",
    "print(it)\n",
    "for i in it:\n",
    "    print(i)"
   ]
  },
  {
   "cell_type": "code",
   "execution_count": null,
   "id": "0c464569",
   "metadata": {},
   "outputs": [
    {
     "name": "stdout",
     "output_type": "stream",
     "text": [
      "1\n",
      "2\n",
      "3\n",
      "4\n",
      "5\n"
     ]
    }
   ],
   "source": [
    "lst = [1,2,3,4,5] # list 타입도 iterable 객체 \n",
    "for v in lst:\n",
    "    print(v)"
   ]
  },
  {
   "cell_type": "markdown",
   "id": "dddd671c",
   "metadata": {},
   "source": [
    "Slicing"
   ]
  },
  {
   "cell_type": "code",
   "execution_count": 13,
   "id": "c2ffe6f5",
   "metadata": {},
   "outputs": [
    {
     "name": "stdout",
     "output_type": "stream",
     "text": [
      "[1, 2, 3, 4]\n"
     ]
    }
   ],
   "source": [
    "numbers=list(range(0,11)) # list() 함수는 반드시 iterable 객체를 인자로 요구\n",
    "print(numbers[1:5]) # 두번째 인수는 포함되지 않는다 "
   ]
  },
  {
   "cell_type": "markdown",
   "id": "4af3ab7f",
   "metadata": {},
   "source": [
    " 예제 2: 마지막 3개 요소 추출"
   ]
  },
  {
   "cell_type": "code",
   "execution_count": 14,
   "id": "295a8407",
   "metadata": {},
   "outputs": [
    {
     "name": "stdout",
     "output_type": "stream",
     "text": [
      "[8, 9, 10]\n"
     ]
    }
   ],
   "source": [
    "print(numbers[-3:])  # [8, 9, 10]\n"
   ]
  },
  {
   "cell_type": "markdown",
   "id": "ae718054",
   "metadata": {},
   "source": [
    "예제 3: 짝수 인덱스 요소만 추출"
   ]
  },
  {
   "cell_type": "code",
   "execution_count": null,
   "id": "1e9f02df",
   "metadata": {},
   "outputs": [
    {
     "name": "stdout",
     "output_type": "stream",
     "text": [
      "[0, 1, 2, 3, 4, 5, 6, 7, 8, 9, 10]\n",
      "[0, 2, 4, 6, 8, 10]\n",
      "[10, 8, 6, 4, 2, 0]\n",
      "[10, 7, 4, 1]\n"
     ]
    }
   ],
   "source": [
    "print(numbers)\n",
    "print(numbers[::2])  # [0,2,4,6,8,10]\n",
    "print(numbers[::-2]) # [10,8,6,4,2,0]\n",
    "print(numbers[::-3]) # [10,7,4,1]\n"
   ]
  },
  {
   "cell_type": "markdown",
   "id": "f7ffc3da",
   "metadata": {},
   "source": [
    "예제 4: 리스트를 반으로 나누기"
   ]
  },
  {
   "cell_type": "code",
   "execution_count": null,
   "id": "0cc008df",
   "metadata": {},
   "outputs": [
    {
     "name": "stdout",
     "output_type": "stream",
     "text": [
      "5\n",
      "왼쪽: [0, 1, 2, 3, 4]\n",
      "오른쪽: [5, 6, 7, 8, 9, 10]\n"
     ]
    }
   ],
   "source": [
    "mid = len(numbers) // 2 # 정수//정수 = 실수 # 정수/정수=정수\n",
    "print(mid)\n",
    "left = numbers[:mid] #mid는 제외 \n",
    "right = numbers[mid:]\n",
    "print(\"왼쪽:\", left)\n",
    "print(\"오른쪽:\", right)\n"
   ]
  },
  {
   "cell_type": "markdown",
   "id": "207afdbc",
   "metadata": {},
   "source": [
    "예제 5: 리스트를 거꾸로 뒤집기 (역순)"
   ]
  },
  {
   "cell_type": "markdown",
   "id": "1af0ec86",
   "metadata": {},
   "source": [
    "sequence[start:stop:step]\n",
    "\n",
    "\n",
    "start: 시작 인덱스\n",
    "\n",
    "stop: 끝 인덱스 (불포함)\n",
    "\n",
    "step: 간격, -1이면 역순\n",
    "\n"
   ]
  },
  {
   "cell_type": "code",
   "execution_count": null,
   "id": "9503c1d9",
   "metadata": {},
   "outputs": [
    {
     "name": "stdout",
     "output_type": "stream",
     "text": [
      "[10, 9, 8, 7, 6, 5, 4, 3, 2, 1, 0]\n"
     ]
    }
   ],
   "source": [
    "print(numbers[::-1])  # [10, 9, ..., 1]"
   ]
  },
  {
   "cell_type": "markdown",
   "id": "5d82cc3b",
   "metadata": {},
   "source": [
    "예제 9: 슬라이스로 전체 복사 (얕은 복사)\n",
    "- shallow copy : 새로운 객체를 만들지만, 그 객체 내부의 요소들은 원본 객체가 참조하는 것과 똑같은 것을 참조함 -> 참조변수의 값만 복사함\n",
    "- deep copy : 새로운 객체를 만들고, 원본 객체 내부에 있는 모든 객체들을 재귀적으로(recursively) 복사하여 완전히 새로운 복사본을 만듦"
   ]
  },
  {
   "cell_type": "markdown",
   "id": "e118ef19",
   "metadata": {},
   "source": [
    "- 리스트의 요소가 int, str, 튜플 같은 불변(Immutable) 객체일 때는 shallow copy를 하면 복사본을 수정하더라도 원본을 수정할 수 없음\n",
    "- 리스트의 요소가 list, dict 같은 가변(Mutable) 객체일 때는 shallow copy를 하면 복사본을 수정하면 원본도 같이 수정됨"
   ]
  },
  {
   "cell_type": "code",
   "execution_count": 7,
   "id": "9da61fc4",
   "metadata": {},
   "outputs": [
    {
     "name": "stdout",
     "output_type": "stream",
     "text": [
      "[99, 1, 2, 3, 4, 5, 6, 7, 8, 9, 10]\n",
      "[0, 1, 2, 3, 4, 5, 6, 7, 8, 9, 10]\n"
     ]
    }
   ],
   "source": [
    "#4.4.3 리스트 복사하기\n",
    "numbers=list(range(0,11))\n",
    "copy = numbers[:] #numbers[:]는 shallow copy\n",
    "copy[0] = 99  \n",
    "print(copy) #복사본은 변경됨\n",
    "print(numbers) #복사한 리스트를 수정해도 원본에는 영향이 없다 > 그래서 겉보기엔 deep copy처럼 보인다"
   ]
  },
  {
   "cell_type": "markdown",
   "id": "f1dccaf5",
   "metadata": {},
   "source": [
    "2차원 리스트 → 내부 객체는 공유됨 (진짜 shallow copy)\n",
    "matrix[:]는 바깥 리스트만 복사하고, 내부 리스트들은 그대로 참조함\n",
    "즉, 얕은 복사(shallow copy)의 전형적인 사례"
   ]
  },
  {
   "cell_type": "code",
   "execution_count": 3,
   "id": "1de74591",
   "metadata": {},
   "outputs": [
    {
     "name": "stdout",
     "output_type": "stream",
     "text": [
      "[[999, 2], [3, 4]]\n",
      "[[999, 2], [3, 4]]\n"
     ]
    }
   ],
   "source": [
    "matrix = [[1, 2], [3, 4]]\n",
    "copy_matrix = matrix[:] #shallow copy\n",
    "copy_matrix[0][0] = 999\n",
    "\n",
    "print(matrix)        # [[999, 2], [3, 4]] ← 원본도 바뀜!\n",
    "print(copy_matrix)   # [[999, 2], [3, 4]]\n"
   ]
  },
  {
   "cell_type": "markdown",
   "id": "45e0b071",
   "metadata": {},
   "source": [
    "deep copy : 아예 새로운 객체가 만들어짐"
   ]
  },
  {
   "cell_type": "code",
   "execution_count": 4,
   "id": "a3a10105",
   "metadata": {},
   "outputs": [
    {
     "name": "stdout",
     "output_type": "stream",
     "text": [
      "[[1, 2], [3, 4]]\n",
      "[[-1, 2], [3, 4]]\n"
     ]
    }
   ],
   "source": [
    "import copy\n",
    "matrix2 = [[1, 2], [3, 4]]\n",
    "deep_copy = copy.deepcopy(matrix2)\n",
    "deep_copy[0][0] = -1\n",
    "print(matrix2)\n",
    "print(deep_copy)"
   ]
  },
  {
   "cell_type": "code",
   "execution_count": 6,
   "id": "9fe8042c",
   "metadata": {},
   "outputs": [
    {
     "name": "stdout",
     "output_type": "stream",
     "text": [
      "1의 제곱은 1\n",
      "2의 제곱은 4\n",
      "3의 제곱은 9\n",
      "4의 제곱은 16\n",
      "5의 제곱은 25\n",
      "6의 제곱은 36\n",
      "7의 제곱은 49\n",
      "8의 제곱은 64\n",
      "9의 제곱은 81\n",
      "10의 제곱은 100\n",
      "[1, 4, 9, 16, 25, 36, 49, 64, 81, 100]\n"
     ]
    }
   ],
   "source": [
    "squares=[]\n",
    "for value in range(1,11):\n",
    "    squares.append(value**2)\n",
    "    print(f\"{value}의 제곱은 {value**2}\") #f 문자열이용\n",
    "    #print(\"{}의 제곱은 {}\".format(value, value**2))\n",
    "    \n",
    "print(squares)"
   ]
  },
  {
   "cell_type": "code",
   "execution_count": null,
   "id": "0937f10d",
   "metadata": {},
   "outputs": [
    {
     "name": "stdout",
     "output_type": "stream",
     "text": [
      "인덱스 0의 값은 1\n",
      "인덱스 1의 값은 4\n",
      "인덱스 2의 값은 9\n",
      "인덱스 3의 값은 16\n",
      "인덱스 4의 값은 25\n",
      "인덱스 5의 값은 36\n",
      "인덱스 6의 값은 49\n",
      "인덱스 7의 값은 64\n",
      "인덱스 8의 값은 81\n",
      "인덱스 9의 값은 100\n"
     ]
    }
   ],
   "source": [
    "for i, value in enumerate(squares): #enumerate(iterable 객체): 반복 가능한(iterable) 객체를 받아 (인덱스, 값) 형태의 튜플을 생성해서 return 함\n",
    "    print(\"인덱스 {}의 값은 {}\".format(i,value))"
   ]
  }
 ],
 "metadata": {
  "kernelspec": {
   "display_name": "Python 3",
   "language": "python",
   "name": "python3"
  },
  "language_info": {
   "codemirror_mode": {
    "name": "ipython",
    "version": 3
   },
   "file_extension": ".py",
   "mimetype": "text/x-python",
   "name": "python",
   "nbconvert_exporter": "python",
   "pygments_lexer": "ipython3",
   "version": "3.9.13"
  }
 },
 "nbformat": 4,
 "nbformat_minor": 5
}
