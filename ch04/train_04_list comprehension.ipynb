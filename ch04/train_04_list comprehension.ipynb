{
 "cells": [
  {
   "cell_type": "markdown",
   "metadata": {},
   "source": [
    "4.3.4 list comprehension\n",
    "- 파이썬에서의 list comprehension은 **\"리스트를 구성하기 위한 문법적 표현\"**이라는 의미\n",
    "- comprehension: to contain or hold within a total scope, significance\n",
    "- 문맥상 의미: 포괄적 표현 / 축약된 구성 표현\n",
    "- \"주어진 조건이나 규칙을 바탕으로 리스트를 포괄적으로 생성하는 방법\"\n",
    "- 리스트 구성 표현이 적합한 번역임 > 조건/규칙 기반으로 리스트를 생성하는 축약 표현.\n",
    "\n"
   ]
  },
  {
   "cell_type": "code",
   "execution_count": 3,
   "metadata": {},
   "outputs": [
    {
     "name": "stdout",
     "output_type": "stream",
     "text": [
      "[0, 1, 4, 9, 16]\n"
     ]
    }
   ],
   "source": [
    "# list comprehension\n",
    "squares = [x**2 for x in range(5)] # x**2이라는 규칙을 바탕으로 iterable 객체를 이용해 리스트를 “포괄적으로 이해하고 생성”하는 구조\n",
    "print(squares)\n"
   ]
  },
  {
   "cell_type": "code",
   "execution_count": 4,
   "metadata": {},
   "outputs": [
    {
     "name": "stdout",
     "output_type": "stream",
     "text": [
      "range(0, 10)\n",
      "<class 'list'>\n",
      "<class 'range'>\n"
     ]
    }
   ],
   "source": [
    "# 실습과제2_4장리스트for 문\n",
    "rng = range(10)\n",
    "print(rng)\n",
    "## range(10)은 range 객체로, 이는 0부터 9까지의 숫자를 생성하는 반복 가능한(iterable) 객체입니다.\n",
    "l = [1,2,3]\n",
    "print(type(l))\n",
    "print(type(rng))"
   ]
  },
  {
   "cell_type": "code",
   "execution_count": 13,
   "metadata": {},
   "outputs": [
    {
     "name": "stdout",
     "output_type": "stream",
     "text": [
      "[[0, 1, 2, 3, 4], [0, 1, 2, 3, 4], [0, 1, 2, 3, 4]]\n",
      "[[0, 1, 2, 3, 4], [5, 6, 7, 8, 9], [10, 11, 12, 13, 14]]\n",
      "<class 'list'>\n",
      "2차원 배열 (3x5):\n",
      "[0, 1, 2, 3, 4]\n",
      "<class 'list'>\n",
      "[5, 6, 7, 8, 9]\n",
      "<class 'list'>\n",
      "[10, 11, 12, 13, 14]\n",
      "<class 'list'>\n",
      "\n",
      "첫 번째 열: [0, 5, 10]\n",
      "마지막 열 : [4, 9, 14]\n",
      "첫 번째 행: [0, 1, 2, 3, 4]\n",
      "마지막 행 : [10, 11, 12, 13, 14]\n",
      "첫 번째 행의 앞 3개 요소: [0, 1, 2]\n",
      "[[1, 2, 3], [4, 5, 6], [7, 8, 9], [10, 11, 12], [13, 14, 15]]\n"
     ]
    }
   ],
   "source": [
    "# 교재에 없는 내용\n",
    "# (3, 5) 크기의 2차원 배열 생성: 3행 5열\n",
    "tup = (3,5) # 튜플 : (), n개로 구성된 단위\n",
    "rows, cols = tup # 튜플 unpacking\n",
    "\n",
    "# 리스트 컴프리헨션과 range()를 사용하여 2차원 배열 만들기\n",
    "m=[[i for i in range(cols)]for j in range(rows)]\n",
    "print(m)\n",
    "matrix = [[i + j*cols for i in range(cols)] for j in range(rows)]  #i + j*cols : 0부터 차례대로 숫자를 채우기 위함\n",
    "print(matrix)\n",
    "print(type(matrix))\n",
    "\n",
    "# 2차원 배열 -> 1차원 배열로 출력\n",
    "print(\"2차원 배열 (3x5):\")\n",
    "for row in matrix:\n",
    "    print(row)\n",
    "    print(type(row))\n",
    "\n",
    "# 리스트 슬라이싱: 첫 번째 열만 출력\n",
    "first_column = [row[0] for row in matrix]\n",
    "last_column = [row[-1] for row in matrix]\n",
    "print(\"\\n첫 번째 열:\", first_column)\n",
    "print(\"마지막 열 :\", last_column)\n",
    "# 리스트 슬라이싱: 첫 번째 행만 출력\n",
    "first_row = matrix[0]\n",
    "last_row = matrix[-1]\n",
    "print(\"첫 번째 행:\", first_row)\n",
    "print(\"마지막 행 :\",last_row)\n",
    "\n",
    "# 리스트 슬라이싱: 첫 번째 행의 앞 3개 요소만 슬라이싱\n",
    "first_row_sliced = first_row[:3]\n",
    "print(\"첫 번째 행의 앞 3개 요소:\", first_row_sliced)\n",
    "\n",
    "m2 = [[j+3*i for j in range(1,4) ] for i in range(5)]\n",
    "print(m2)"
   ]
  },
  {
   "cell_type": "code",
   "execution_count": 14,
   "metadata": {},
   "outputs": [
    {
     "name": "stdout",
     "output_type": "stream",
     "text": [
      "[0, 1, 2, 3, 4, 5, 6, 7, 8, 9, 10]\n",
      "[10, 9, 8, 7, 6, 5, 4, 3, 2, 1, 0]\n",
      "[99, 9, 8, 7, 6, 5, 4, 3, 2, 1, 0]\n",
      "[0, 1, 2, 3, 4, 5, 6, 7, 8, 9, 10]\n",
      "[100, 1, 2, 3, 4, 5, 6, 7, 8, 9, 10]\n",
      "[0, 1, 2, 3, 4, 5, 6, 7, 8, 9, 10]\n",
      "[11, 1, 2, 3, 4, 5, 6, 7, 8, 9, 10]\n",
      "[11, 1, 2, 3, 4, 5, 6, 7, 8, 9, 10]\n"
     ]
    }
   ],
   "source": [
    "# 리스트[start:stop:step] 슬라이싱\n",
    "# start: 시작 인덱스 (포함)\n",
    "# stop: 끝 인덱스 (포함되지 않음)\n",
    "# step: 인덱스 증가 값 (기본값은 1, 음수이면 마지막부터 셈)\n",
    "numbers = list(range(11))\n",
    "print(numbers)\n",
    "# 리스트를 뒤집기\n",
    "reversed_list = numbers[::-1] # 슬라이스의 결과는 copy (원본은 변화X)\n",
    "print(reversed_list)\n",
    "reversed_list[0] = 99\n",
    "print(reversed_list)\n",
    "print(numbers)\n",
    "numbers1 = numbers[:]\n",
    "numbers1[0] = 100\n",
    "print(numbers1)\n",
    "print(numbers)\n",
    "numbers2 = numbers # 참조변수가 동일한 리스트를 가리키므로 numbers2가 변하면, 원본(numbers)도 변함\n",
    "numbers2[0] = 11\n",
    "print(numbers2)\n",
    "print(numbers)"
   ]
  },
  {
   "cell_type": "code",
   "execution_count": 1,
   "metadata": {},
   "outputs": [
    {
     "name": "stdout",
     "output_type": "stream",
     "text": [
      "[[], [], [], [], []]\n",
      "[[1, 2, 3], [4, 5, 6], [7, 8, 9], [10, 11, 12], [13, 14, 15]]\n"
     ]
    }
   ],
   "source": [
    "array = [[] for i in range(5)]  \n",
    "print(array)\n",
    "for i in range(5):  \n",
    "    for j in range(1, 4):  \n",
    "        array[i].append(j+3*i)  # 빈 리스트에 append로 값을 채워넣기\n",
    "\n",
    "print(array)"
   ]
  },
  {
   "cell_type": "code",
   "execution_count": null,
   "metadata": {},
   "outputs": [
    {
     "name": "stdout",
     "output_type": "stream",
     "text": [
      "[[60, 40, 12, 48, 76, 57, 43], [40, 48, 4, 3, 55, 69, 43], [24, 30, 35, 98, 93, 55, 12], [82, 12, 30, 21, 2, 10, 67], [29, 26, 53, 52, 15, 20, 62]]\n",
      "원본 행렬:\n",
      "[60, 40, 12, 48, 76, 57, 43]\n",
      "[40, 48, 4, 3, 55, 69, 43]\n",
      "[24, 30, 35, 98, 93, 55, 12]\n",
      "[82, 12, 30, 21, 2, 10, 67]\n",
      "[29, 26, 53, 52, 15, 20, 62]\n",
      "\n",
      "결과 행렬 (최대 값부터 3번째 큰 값까지):\n",
      "[12, 40, 43]\n",
      "[3, 4, 40]\n",
      "[12, 24, 30]\n",
      "[2, 10, 12]\n",
      "[15, 20, 26]\n"
     ]
    }
   ],
   "source": [
    "import random\n",
    "\n",
    "# 행렬의 크기 정의 (5x7 행렬)\n",
    "rows, cols = 5, 7\n",
    "\n",
    "# 2차원 행렬을 난수로 초기화\n",
    "matrix = [[random.randint(0, 100) for _ in range(cols)] for _ in range(rows)] # _ : 익명변수\n",
    "print(matrix)\n",
    "\n",
    "# 행렬을 행마다 출력\n",
    "print(\"원본 행렬:\")\n",
    "for row in matrix:\n",
    "    print(row)\n",
    "\n",
    "# 각 행에서 최대 값부터 3번째 큰 값까지 순서대로 행렬 만들기\n",
    "result_matrix = []\n",
    "\n",
    "for row in matrix:\n",
    "    # 행을 정렬하여 최대 값부터 작은 값으로 정렬(내림차순 정렬)\n",
    "    sorted_row = sorted(row, reverse=True)\n",
    "    \n",
    "    # 최대 값부터 3번째 큰 값까지 가져오기\n",
    "    top_three = sorted_row[:3]\n",
    "    \n",
    "    # 3개 값이 아닌 경우 None으로 채우기 (cols의 값이 3 미만일 경우에 필요한 코드)\n",
    "    # while len(top_three) < 3:\n",
    "    #     top_three.append(None)\n",
    "    \n",
    "    # 결과 행렬에 추가\n",
    "    result_matrix.append(top_three)\n",
    "\n",
    "# 결과 행렬 출력\n",
    "print(\"\\n결과 행렬 (최대 값부터 3번째 큰 값까지):\")\n",
    "for row in result_matrix:\n",
    "    print(row)\n"
   ]
  },
  {
   "cell_type": "code",
   "execution_count": null,
   "metadata": {},
   "outputs": [
    {
     "name": "stdout",
     "output_type": "stream",
     "text": [
      "[70, 40, 25]\n",
      "[80, 50, 35]\n",
      "[90, 60, 45]\n",
      "[70, 80, 90]\n",
      "[40, 50, 60]\n",
      "[25, 35, 45]\n"
     ]
    }
   ],
   "source": [
    "# 예시 2차원 행렬\n",
    "matrix = [\n",
    "    [10, 20, 30],\n",
    "    [40, 50, 60],\n",
    "    [70, 80, 90],\n",
    "    [25, 35, 45],\n",
    "    [5, 15, 25]\n",
    "]\n",
    "\n",
    "# 각 열의 최대값 3개를 뽑는 list comprehension\n",
    "result_matrix = [sorted([row[col_idx] for row in matrix], reverse=True)[:3] for col_idx in range(len(matrix[0]))]\n",
    "for row in result_matrix:\n",
    "    print(row)\n",
    "\n",
    "#len(matrix) : 행의 수\n",
    "#len(matrix[0]) : 열의 수\n",
    "#sorted([row[col_idx] for row in matrix], reverse=True) : 첫번째 열끼리 내림차순 정렬\n",
    "\n",
    "# 열을 행으로 변환 (list comprehension을 다시 사용) -> zip() 이해 필요함 \n",
    "result_matrix = [list(row) for row in zip(*result_matrix)]\n",
    "\n",
    "# 결과 출력\n",
    "for row in result_matrix:\n",
    "    print(row)"
   ]
  },
  {
   "cell_type": "markdown",
   "metadata": {},
   "source": [
    "if 문이 포함된 list comprehension"
   ]
  },
  {
   "cell_type": "code",
   "execution_count": null,
   "metadata": {},
   "outputs": [
    {
     "name": "stdout",
     "output_type": "stream",
     "text": [
      "[0, 1, 2, 3, 4, 5, 6, 7, 8, 9, 10]\n",
      "[0, 2, 4, 6, 8, 10]\n",
      "[0, 0, 2, 0, 4, 0, 6, 0, 8, 0, 10]\n"
     ]
    }
   ],
   "source": [
    "numbers = list(range(11))\n",
    "lst = [n for n in numbers]\n",
    "print(lst)\n",
    "lst2 = [n for n in numbers if n%2 == 0] #numbers 리스트 중 짝수만 lst2에 넣어줌\n",
    "print(lst2)\n",
    "lst3 = [(n if n%2 == 0 else 0) for n in numbers] #numbers 리스트에서 모든 값을 다 가져온 후 -> 짝수면 그 자체로 반환, 아니면 0을 반환 (삼항연산자와 유사)\n",
    "print(lst3)"
   ]
  },
  {
   "cell_type": "code",
   "execution_count": 42,
   "metadata": {},
   "outputs": [
    {
     "name": "stdout",
     "output_type": "stream",
     "text": [
      "['happy', 'birthday']\n"
     ]
    }
   ],
   "source": [
    "words = [\"good\",\"nice\", \"the\", \"happy\", \"birthday\"]\n",
    "long_word = [w for w in words if len(w) >= 5] #words 리스트 중 길이가 5이상인 것만 long_word에 넣어줌\n",
    "print(long_word)"
   ]
  }
 ],
 "metadata": {
  "kernelspec": {
   "display_name": "Python 3",
   "language": "python",
   "name": "python3"
  },
  "language_info": {
   "codemirror_mode": {
    "name": "ipython",
    "version": 3
   },
   "file_extension": ".py",
   "mimetype": "text/x-python",
   "name": "python",
   "nbconvert_exporter": "python",
   "pygments_lexer": "ipython3",
   "version": "3.9.13"
  }
 },
 "nbformat": 4,
 "nbformat_minor": 2
}
