{
 "cells": [
  {
   "cell_type": "markdown",
   "id": "9e61a06b",
   "metadata": {},
   "source": [
    "print문 실행시에 오류가 나는 print trace"
   ]
  },
  {
   "cell_type": "code",
   "execution_count": null,
   "id": "db0eea5a",
   "metadata": {},
   "outputs": [
    {
     "ename": "NameError",
     "evalue": "name 'msgg' is not defined",
     "output_type": "error",
     "traceback": [
      "\u001b[1;31m---------------------------------------------------------------------------\u001b[0m",
      "\u001b[1;31mNameError\u001b[0m                                 Traceback (most recent call last)",
      "Cell \u001b[1;32mIn[16], line 3\u001b[0m\n\u001b[0;32m      1\u001b[0m \u001b[38;5;66;03m#변수 실행시 오류 발생 > traceback\u001b[39;00m\n\u001b[0;32m      2\u001b[0m msg\u001b[38;5;241m=\u001b[39m\u001b[38;5;124m\"\u001b[39m\u001b[38;5;124mhello good day\u001b[39m\u001b[38;5;124m\"\u001b[39m \u001b[38;5;66;03m#주석\u001b[39;00m\n\u001b[1;32m----> 3\u001b[0m \u001b[38;5;28mprint\u001b[39m(\u001b[43mmsgg\u001b[49m)\n",
      "\u001b[1;31mNameError\u001b[0m: name 'msgg' is not defined"
     ]
    }
   ],
   "source": [
    "#2.2.2 변수 실행시 오류 발생 > traceback\n",
    "msg=\"hello good day\" #주석\n",
    "print(msgg)"
   ]
  },
  {
   "cell_type": "code",
   "execution_count": 19,
   "id": "93b9343e",
   "metadata": {},
   "outputs": [
    {
     "name": "stdout",
     "output_type": "stream",
     "text": [
      "hello world and hello good day\n"
     ]
    }
   ],
   "source": [
    "print(\"hello world and\",msg)"
   ]
  },
  {
   "cell_type": "code",
   "execution_count": 21,
   "id": "860be222",
   "metadata": {},
   "outputs": [],
   "source": [
    "num = 10\n",
    "#num 은 참조변수 "
   ]
  },
  {
   "cell_type": "code",
   "execution_count": 2,
   "id": "6152faa5",
   "metadata": {},
   "outputs": [
    {
     "name": "stdout",
     "output_type": "stream",
     "text": [
      "Good Morning\n",
      "Hello how are\n",
      "Hello How Are\n",
      "Good morning\n",
      "Nice work\n"
     ]
    }
   ],
   "source": [
    "#2.3.1 메소드를 이용해 대소문자 변경\n",
    "greet='good morning'\n",
    "greet_job=\"nice work\"\n",
    "print(greet.title()) #title()메소드 : 모든 첫글자를 대문자로 바꿔줌\n",
    "#greet 은 참조변수\n",
    "#파이썬에서 모든 변수는 참조변수임\n",
    "s1 = greet.capitalize()  #capitalize()메소드 : 첫 글자만 대문자로 바꿔줌\n",
    "dd = \"hello how are\"\n",
    "print(dd.capitalize())\n",
    "print(dd.title())\n",
    "\n",
    "s2 = greet_job.capitalize()\n",
    "print(s1)\n",
    "print(s2)"
   ]
  },
  {
   "cell_type": "code",
   "execution_count": null,
   "id": "26131a10",
   "metadata": {},
   "outputs": [
    {
     "name": "stdout",
     "output_type": "stream",
     "text": [
      "Nice work\n"
     ]
    },
    {
     "data": {
      "text/plain": [
       "<function str.format>"
      ]
     },
     "execution_count": 56,
     "metadata": {},
     "output_type": "execute_result"
    }
   ],
   "source": [
    "num = s2 #다른 타입으로 변환 가능\n",
    "print(num)"
   ]
  },
  {
   "cell_type": "code",
   "execution_count": null,
   "id": "1ef49403",
   "metadata": {},
   "outputs": [
    {
     "name": "stdout",
     "output_type": "stream",
     "text": [
      "Hong -> Gil Dong\n",
      "문자열 실습 : hong gil dong\n"
     ]
    }
   ],
   "source": [
    "#2.3.2 f-문자열 -> 문자열 안에 변수를 사용할 때 자주 사용됨 f+{}\n",
    "last_name = \"hong\"\n",
    "first_name = 'gil dong'\n",
    "full_name = f\"{last_name} -> {first_name}\" #f : format\n",
    "print(full_name.title())\n",
    "print(f'문자열 실습 : {last_name} {first_name}')"
   ]
  },
  {
   "cell_type": "code",
   "execution_count": null,
   "id": "4632cc32",
   "metadata": {},
   "outputs": [
    {
     "name": "stdout",
     "output_type": "stream",
     "text": [
      "\t문자열 실습 : hong\n",
      "gil dong\n"
     ]
    }
   ],
   "source": [
    "#2.3.3 문자열에 공백 추가\n",
    "print(f'\\t문자열 실습 : {last_name}\\n{first_name}')"
   ]
  },
  {
   "cell_type": "code",
   "execution_count": 3,
   "id": "057575b6",
   "metadata": {},
   "outputs": [
    {
     "name": "stdout",
     "output_type": "stream",
     "text": [
      "***  12 44 66   123 243  ***\n",
      "*** 12 44 66   123 243  ***\n",
      "***  12 44 66   123 243 ***\n",
      "*** 12 44 66   123 243 ***\n",
      "['12', '44', '66', '123', '243']\n",
      "정렬된 문자열 배열: ['12', '123', '243', '44', '66']\n"
     ]
    }
   ],
   "source": [
    "#2.3.4 공백 없애기\n",
    "num = \" 12 44 66   123 243 \"\n",
    "print(\"***\",num,\"***\")\n",
    "print(\"***\",num.lstrip(),\"***\") #lstrip() : 문자열 왼쪽 공백 제거 \n",
    "print(\"***\",num.rstrip(),\"***\") #rstrip() : 문자열 오른쪽 공백 제거 \n",
    "print(\"***\",num.strip(),\"***\") #strip() : 문자열 양쪽 공백 제거 \n",
    "\n",
    "# 1. 앞뒤 공백 제거 후, 문자열을 공백 기준으로 분리 -> 리스트로 변환됨\n",
    "str_list = num.strip().split()\n",
    "print(str_list)\n",
    "\n",
    "# 2. 문자열 배열을 정렬 (문자열 기준으로 정렬됨)\n",
    "str_list.sort()\n",
    "print(\"정렬된 문자열 배열:\", str_list)"
   ]
  },
  {
   "cell_type": "code",
   "execution_count": 55,
   "id": "023343bf",
   "metadata": {},
   "outputs": [
    {
     "name": "stdout",
     "output_type": "stream",
     "text": [
      "['12', '44', '66', '123', '243']\n",
      "[12, 44, 66, 123, 243]\n",
      "정렬된 정수 리스트: [12, 44, 66, 123, 243]\n"
     ]
    }
   ],
   "source": [
    "num = \" 12 44 66 123 243\"\n",
    "\n",
    "# 1. 문자열 앞뒤 공백 제거 후 공백 기준 분리\n",
    "str_list = num.strip().split()\n",
    "print(str_list)\n",
    "\n",
    "# 2. 각 문자열 요소를 정수로 변환\n",
    "# 확장형 for문 -> 4장에서 공부함\n",
    "int_list = [int(s) for s in str_list]\n",
    "print(int_list)\n",
    "\n",
    "# 3. 정수 리스트 정렬\n",
    "int_list.sort()\n",
    "print(\"정렬된 정수 리스트:\", int_list)"
   ]
  },
  {
   "cell_type": "code",
   "execution_count": 58,
   "id": "01486b8c",
   "metadata": {},
   "outputs": [
    {
     "data": {
      "text/plain": [
       "0.2"
      ]
     },
     "execution_count": 58,
     "metadata": {},
     "output_type": "execute_result"
    }
   ],
   "source": [
    "2*0.1"
   ]
  },
  {
   "cell_type": "code",
   "execution_count": null,
   "id": "c0a3138e",
   "metadata": {},
   "outputs": [
    {
     "data": {
      "text/plain": [
       "1"
      ]
     },
     "execution_count": 8,
     "metadata": {},
     "output_type": "execute_result"
    }
   ],
   "source": [
    "0.2+0.1\n",
    "3/2\n",
    "3//2"
   ]
  },
  {
   "cell_type": "code",
   "execution_count": 60,
   "id": "d3e3ec6c",
   "metadata": {},
   "outputs": [
    {
     "data": {
      "text/plain": [
       "0.6"
      ]
     },
     "execution_count": 60,
     "metadata": {},
     "output_type": "execute_result"
    }
   ],
   "source": [
    "0.3+0.3"
   ]
  },
  {
   "cell_type": "code",
   "execution_count": 61,
   "id": "b6534b63",
   "metadata": {},
   "outputs": [
    {
     "data": {
      "text/plain": [
       "0.30000000000000004"
      ]
     },
     "execution_count": 61,
     "metadata": {},
     "output_type": "execute_result"
    }
   ],
   "source": [
    "3*0.1"
   ]
  },
  {
   "cell_type": "code",
   "execution_count": 62,
   "id": "c6a24897",
   "metadata": {},
   "outputs": [
    {
     "data": {
      "text/plain": [
       "0.3"
      ]
     },
     "execution_count": 62,
     "metadata": {},
     "output_type": "execute_result"
    }
   ],
   "source": [
    "0.3"
   ]
  },
  {
   "cell_type": "code",
   "execution_count": 63,
   "id": "369df781",
   "metadata": {},
   "outputs": [
    {
     "name": "stdout",
     "output_type": "stream",
     "text": [
      "False\n"
     ]
    }
   ],
   "source": [
    "print(0.3 == 0.1 + 0.2)"
   ]
  },
  {
   "cell_type": "code",
   "execution_count": 64,
   "id": "542e287f",
   "metadata": {},
   "outputs": [
    {
     "name": "stdout",
     "output_type": "stream",
     "text": [
      "True\n"
     ]
    }
   ],
   "source": [
    "import math\n",
    "print(math.isclose(0.1 + 0.2, 0.3))  #isclose() : 두 숫자가 '충분히 가까운지'비교\n"
   ]
  },
  {
   "cell_type": "code",
   "execution_count": 15,
   "id": "bac28d3a",
   "metadata": {},
   "outputs": [
    {
     "name": "stdout",
     "output_type": "stream",
     "text": [
      "0.8999999999999999\n"
     ]
    }
   ],
   "source": [
    "print(0.3*3)"
   ]
  },
  {
   "cell_type": "markdown",
   "id": "6c93ca53",
   "metadata": {},
   "source": [
    "부동소수점(floating point) 오차 때문이다.\n",
    "- 파이썬(및 대부분의 언어)은 이진수 기반의 IEEE 754 방식으로 실수를 저장 > 일부 소수는 정확하게 표현 못함"
   ]
  },
  {
   "cell_type": "code",
   "execution_count": null,
   "id": "13d5187e",
   "metadata": {},
   "outputs": [
    {
     "name": "stdout",
     "output_type": "stream",
     "text": [
      "1000000000\n"
     ]
    }
   ],
   "source": [
    "#2.4.4\n",
    "sum = 1_000_000_000 #개발자가 쉽게 숫자를 표기하는 방법\n",
    "print(sum)"
   ]
  },
  {
   "cell_type": "code",
   "execution_count": null,
   "id": "4f1121b6",
   "metadata": {},
   "outputs": [
    {
     "name": "stdout",
     "output_type": "stream",
     "text": [
      "1 2 3\n",
      "2 1 3\n"
     ]
    }
   ],
   "source": [
    "#2.4.5 다중 할당 -> 자주 사용됨\n",
    "x,y,z=1,2,3\n",
    "print(x,y,z)\n",
    "x,y = y,x # swap을 간단하게 가능\n",
    "print(x,y,z)"
   ]
  },
  {
   "cell_type": "code",
   "execution_count": 71,
   "id": "33aca54a",
   "metadata": {},
   "outputs": [
    {
     "name": "stdout",
     "output_type": "stream",
     "text": [
      "The Zen of Python, by Tim Peters\n",
      "\n",
      "Beautiful is better than ugly.\n",
      "Explicit is better than implicit.\n",
      "Simple is better than complex.\n",
      "Complex is better than complicated.\n",
      "Flat is better than nested.\n",
      "Sparse is better than dense.\n",
      "Readability counts.\n",
      "Special cases aren't special enough to break the rules.\n",
      "Although practicality beats purity.\n",
      "Errors should never pass silently.\n",
      "Unless explicitly silenced.\n",
      "In the face of ambiguity, refuse the temptation to guess.\n",
      "There should be one-- and preferably only one --obvious way to do it.\n",
      "Although that way may not be obvious at first unless you're Dutch.\n",
      "Now is better than never.\n",
      "Although never is often better than *right* now.\n",
      "If the implementation is hard to explain, it's a bad idea.\n",
      "If the implementation is easy to explain, it may be a good idea.\n",
      "Namespaces are one honking great idea -- let's do more of those!\n"
     ]
    }
   ],
   "source": [
    "import this"
   ]
  }
 ],
 "metadata": {
  "kernelspec": {
   "display_name": "Python 3",
   "language": "python",
   "name": "python3"
  },
  "language_info": {
   "codemirror_mode": {
    "name": "ipython",
    "version": 3
   },
   "file_extension": ".py",
   "mimetype": "text/x-python",
   "name": "python",
   "nbconvert_exporter": "python",
   "pygments_lexer": "ipython3",
   "version": "3.9.13"
  }
 },
 "nbformat": 4,
 "nbformat_minor": 5
}
