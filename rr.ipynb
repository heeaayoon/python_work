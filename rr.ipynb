{
 "cells": [
  {
   "cell_type": "code",
   "execution_count": 10,
   "id": "c0c54bd2",
   "metadata": {},
   "outputs": [
    {
     "name": "stdout",
     "output_type": "stream",
     "text": [
      "helddffddfseo\n"
     ]
    }
   ],
   "source": [
    "print(\"helddffddfseo\")"
   ]
  },
  {
   "cell_type": "code",
   "execution_count": 12,
   "id": "1b8dc7b0",
   "metadata": {},
   "outputs": [
    {
     "name": "stdout",
     "output_type": "stream",
     "text": [
      "Hello, VS Code Jupyter!\n"
     ]
    }
   ],
   "source": [
    "print(\"Hello, VS Code Jupyter!\")\n",
    "my_variable = 10 + 20"
   ]
  },
  {
   "cell_type": "code",
   "execution_count": 14,
   "id": "ae8f777c",
   "metadata": {},
   "outputs": [
    {
     "name": "stdout",
     "output_type": "stream",
     "text": [
      "30\n"
     ]
    }
   ],
   "source": [
    "print(my_variable)"
   ]
  },
  {
   "cell_type": "code",
   "execution_count": 15,
   "id": "9714fa05",
   "metadata": {},
   "outputs": [
    {
     "name": "stdout",
     "output_type": "stream",
     "text": [
      "Hello, VS Code Jupyter!\n",
      "30\n"
     ]
    }
   ],
   "source": [
    "print(\"Hello, VS Code Jupyter!\")\n",
    "my_variable = 10 + 20\n",
    "print(my_variable)"
   ]
  }
 ],
 "metadata": {
  "kernelspec": {
   "display_name": "Python 3",
   "language": "python",
   "name": "python3"
  },
  "language_info": {
   "codemirror_mode": {
    "name": "ipython",
    "version": 3
   },
   "file_extension": ".py",
   "mimetype": "text/x-python",
   "name": "python",
   "nbconvert_exporter": "python",
   "pygments_lexer": "ipython3",
   "version": "3.9.13"
  }
 },
 "nbformat": 4,
 "nbformat_minor": 5
}
