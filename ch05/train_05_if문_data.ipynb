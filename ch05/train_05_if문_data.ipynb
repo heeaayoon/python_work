{
 "cells": [
  {
   "cell_type": "markdown",
   "metadata": {},
   "source": [
    "AI 데이터 분석에서 **리스트 컴프리헨션(List Comprehension)**과 그 안에서의 if 문은 데이터 전처리, 라벨 필터링, 피처 선택 에서 매우 자주 사용됨"
   ]
  },
  {
   "cell_type": "code",
   "execution_count": null,
   "metadata": {},
   "outputs": [
    {
     "name": "stdout",
     "output_type": "stream",
     "text": [
      "[23, 12, 55]\n",
      "[10, 25, 30]\n"
     ]
    }
   ],
   "source": [
    "#1. 결측값(None 또는 np.(Not a Number, 숫자가 아님)) 제거\n",
    "#- 용도: 모델 학습 전에 결측값을 제거\n",
    "\n",
    "data = [23, None, 12, None, 55]\n",
    "cleaned = [x for x in data if x is not None]\n",
    "print(cleaned)  \n",
    "\n",
    "data = [10, None, 25, None, 30]\n",
    "clean_data = [x for x in data if x is not None]\n",
    "print(clean_data)\n"
   ]
  },
  {
   "cell_type": "code",
   "execution_count": null,
   "metadata": {},
   "outputs": [
    {
     "name": "stdout",
     "output_type": "stream",
     "text": [
      "[78, 92, 88]\n",
      "[5, 8]\n"
     ]
    }
   ],
   "source": [
    "#2. 특정 조건을 만족하는 샘플 필터링\n",
    "#- 이진 분류 문제에서 positive class만 추출\n",
    "\n",
    "scores = [78, 45, 92, 88, 35]\n",
    "passed = [s for s in scores if s >= 60] \n",
    "print(passed)\n",
    "\n",
    "# 숫자형 데이터 중 양수만 필터링\n",
    "values = [-3, 5, 0, -1, 8]\n",
    "positive_values = [v for v in values if v > 0]\n",
    "print(positive_values)\n",
    "\n",
    "#문자열 리스트에서 특정 키워드 포함 항목만 필터링\n",
    "texts = [\"AI is awesome\", \"I love pizza\", \"Machine Learning\", \"Deep Learning\"]\n",
    "ai_texts = [t for t in texts if \"Learning\" in t]\n",
    "print(ai_texts)\n"
   ]
  },
  {
   "cell_type": "code",
   "execution_count": 13,
   "metadata": {},
   "outputs": [
    {
     "name": "stdout",
     "output_type": "stream",
     "text": [
      "['this', 'sample', 'text']\n"
     ]
    }
   ],
   "source": [
    "#3. 텍스트에서 stopword 제거\n",
    "#- 자연어 처리에서 불용어(stop word, 텍스트를 분석할 때 큰 의미를 갖지 않아 분석에 불필요하다고 판단되는 단어들) 제거\n",
    "words = [\"this\", \"is\", \"a\", \"sample\", \"of\", \"text\"]\n",
    "stopwords = {\"is\", \"a\", \"of\"}\n",
    "filtered = [w for w in words if w not in stopwords]\n",
    "print(filtered)"
   ]
  },
  {
   "cell_type": "code",
   "execution_count": 14,
   "metadata": {},
   "outputs": [
    {
     "name": "stdout",
     "output_type": "stream",
     "text": [
      "[('img1.png', 0), ('img2.png', 1), ('img3.png', 0)]\n",
      "[1]\n",
      "['img2.png']\n"
     ]
    }
   ],
   "source": [
    "#4. 정답 라벨만 추출 (tuple 데이터에서)\n",
    "#- label이 1에 해당하는 데이터만 뽑아 샘플링\n",
    "\n",
    "dataset = [(\"img1.png\", 0), (\"img2.png\", 1), (\"img3.png\", 0)] # 리스트 안에 튜플(이미지파일, lable)이 여러 개 들어있는 구조\n",
    "la = [label for label in dataset if label]\n",
    "print(la)\n",
    "label = [label for _, label in dataset if label == 1]\n",
    "print(label)\n",
    "labe = [symbol for symbol, label in dataset if label == 1]\n",
    "print(labe)"
   ]
  },
  {
   "cell_type": "code",
   "execution_count": 11,
   "metadata": {},
   "outputs": [
    {
     "name": "stdout",
     "output_type": "stream",
     "text": [
      "[0.13333333333333333, 0.5019607843137255, 1.0, 0.0392156862745098]\n"
     ]
    }
   ],
   "source": [
    "# 5. 이미지 픽셀 정규화 (255로 나누기) + 조건 필터\n",
    "# - 픽셀 값 정규화 + 이상치 제거 (0 제외)\n",
    "\n",
    "pixels = [0, 34, 128, 255, 10]\n",
    "normalized = [p / 255 for p in pixels if p > 0]\n",
    "print(normalized)"
   ]
  },
  {
   "cell_type": "code",
   "execution_count": 21,
   "metadata": {},
   "outputs": [
    {
     "name": "stdout",
     "output_type": "stream",
     "text": [
      "[1, 3.5, 42]\n",
      "[123.0, 45.0, 7.6]\n"
     ]
    }
   ],
   "source": [
    "#6. 데이터 타입 필터링 (예: 숫자만 추출)\n",
    "mixed = [1, 'a', 3.5, 'hello', 42]\n",
    "numbers = [x for x in mixed if isinstance(x, (int, float))]\n",
    "print(numbers)\n",
    "\n",
    "# 데이터 중에서 숫자 문자열만 숫자(float)로 변환\n",
    "raw = [\"123\", \"abc\", \"45\", \"\", \"7.6\"]\n",
    "cleaned = [float(x) for x in raw if x.replace('.', '', 1).isdigit()] \n",
    "# replace(찾을 내용, 바꿀 내용)함수 : replace('.', '')는 .을 공백으로 변환함\n",
    "# replace(찾을 내용, 바꿀 내용, 바꿀 최대 횟수)함수 : replace('.', '', 1)는 .을 공백으로 앞에서부터 1개만 변환함\n",
    "# isdigit() 메소드 : 특정 문자열이 오직 '숫자(digit)'로만 구성되어 있는지 확인 (모두 숫자면 True/아니면(./-) False를 반환)\n",
    "print(cleaned)"
   ]
  },
  {
   "cell_type": "code",
   "execution_count": 22,
   "metadata": {},
   "outputs": [
    {
     "name": "stdout",
     "output_type": "stream",
     "text": [
      "['positive', 'non-positive', 'non-positive', 'positive']\n"
     ]
    }
   ],
   "source": [
    "#7. 조건에 따라 다른 값으로 변환 (if-else 사용)\n",
    "nums = [10, -5, 0, 3]\n",
    "labels = [\"positive\" if x > 0 else \"non-positive\" for x in nums]\n",
    "print(labels)"
   ]
  }
 ],
 "metadata": {
  "kernelspec": {
   "display_name": "Python 3",
   "language": "python",
   "name": "python3"
  },
  "language_info": {
   "codemirror_mode": {
    "name": "ipython",
    "version": 3
   },
   "file_extension": ".py",
   "mimetype": "text/x-python",
   "name": "python",
   "nbconvert_exporter": "python",
   "pygments_lexer": "ipython3",
   "version": "3.9.13"
  }
 },
 "nbformat": 4,
 "nbformat_minor": 2
}
