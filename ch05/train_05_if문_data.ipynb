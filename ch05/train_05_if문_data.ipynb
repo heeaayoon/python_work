{
 "cells": [
  {
   "cell_type": "markdown",
   "metadata": {},
   "source": [
    "if 문이 포함된 list comprehension은 머신러닝/딥러닝에서 데이터 전처리, 라벨 필터링, 피처 선택 "
   ]
  },
  {
   "cell_type": "markdown",
   "metadata": {},
   "source": [
    "1. 결측값(None 또는 np.(Not a Number, 숫자가 아님)) 제거\n",
    "- 용도: 모델 학습 전에 결측값을 제거"
   ]
  },
  {
   "cell_type": "code",
   "execution_count": null,
   "metadata": {},
   "outputs": [],
   "source": [
    "data = [23, None, 12, None, 55]\n",
    "cleaned = [x for x in data if x is not None]\n",
    "# 출력: [23, 12, 55]\n"
   ]
  },
  {
   "cell_type": "markdown",
   "metadata": {},
   "source": [
    "2. 특정 조건을 만족하는 샘플 필터링\n",
    "- 이진 분류 문제에서 positive class만 추출"
   ]
  },
  {
   "cell_type": "code",
   "execution_count": null,
   "metadata": {},
   "outputs": [],
   "source": [
    "scores = [78, 45, 92, 88, 35]\n",
    "passed = [s for s in scores if s >= 60]\n",
    "# 출력: [78, 92, 88]\n"
   ]
  },
  {
   "cell_type": "markdown",
   "metadata": {},
   "source": [
    "3. 텍스트에서 stopword 제거\n",
    "- 자연어 처리에서 불용어(stop word, 텍스트를 분석할 때 큰 의미를 갖지 않아 분석에 불필요하다고 판단되는 단어들) 제거\n"
   ]
  },
  {
   "cell_type": "code",
   "execution_count": null,
   "metadata": {},
   "outputs": [],
   "source": [
    "words = [\"this\", \"is\", \"a\", \"sample\", \"of\", \"text\"]\n",
    "stopwords = {\"is\", \"a\", \"of\"}\n",
    "filtered = [w for w in words if w not in stopwords]\n",
    "\n",
    "# 출력: ['this', 'sample', 'text']"
   ]
  },
  {
   "cell_type": "markdown",
   "metadata": {},
   "source": [
    "4. 정답 라벨만 추출 (tuple 데이터에서)\n",
    "- 클래스 1에 해당하는 데이터만 뽑아 샘플링"
   ]
  },
  {
   "cell_type": "code",
   "execution_count": null,
   "metadata": {},
   "outputs": [
    {
     "name": "stdout",
     "output_type": "stream",
     "text": [
      "[('img1.png', 0), ('img2.png', 1), ('img3.png', 0)]\n",
      "[1]\n",
      "['img2.png']\n"
     ]
    }
   ],
   "source": [
    "dataset = [(\"img1.png\", 0), (\"img2.png\", 1), (\"img3.png\", 0)] # 리스트 안에 튜플(이미지파일, lable)이 여러 개 들어있는 구조\n",
    "la = [label for label in dataset if label]\n",
    "print(la)\n",
    "labels = [label for _, label in dataset if label == 1]\n",
    "print(labels)\n",
    "labe = [symbol for symbol, label in dataset if label == 1]\n",
    "print(labe)"
   ]
  },
  {
   "cell_type": "markdown",
   "metadata": {},
   "source": [
    "5. 이미지 픽셀 정규화 (0255 → 01) + 조건 필터\n",
    "- 픽셀 값 정규화 + 이상치 제거 (0 제외)\n"
   ]
  },
  {
   "cell_type": "code",
   "execution_count": null,
   "metadata": {},
   "outputs": [],
   "source": [
    "pixels = [0, 34, 128, 255, 10]\n",
    "normalized = [p / 255 for p in pixels if p > 0]\n",
    "# 출력: [0.133, 0.502, 1.0, 0.039]\n"
   ]
  },
  {
   "cell_type": "markdown",
   "metadata": {},
   "source": [
    "숫자 문자열만 숫자로 변환\n",
    "- CSV 등에서 문자열 중 숫자만 추출할 때"
   ]
  },
  {
   "cell_type": "code",
   "execution_count": null,
   "metadata": {},
   "outputs": [
    {
     "name": "stdout",
     "output_type": "stream",
     "text": [
      "[123.0, 45.0, 7.6]\n"
     ]
    }
   ],
   "source": [
    "raw = [\"123\", \"abc\", \"45\", \"\", \"7.6\"]\n",
    "cleaned = [float(x) for x in raw if x.replace('.', '', 1).isdigit()] \n",
    "# replace(찾을 내용, 바꿀 내용)함수 : replace('.', '')는 .을 공백으로 변환함\n",
    "# replace(찾을 내용, 바꿀 내용, 바꿀 최대 횟수)함수 : replace('.', '', 1)는 .을 공백으로 앞에서부터 1개만 변환함\n",
    "# isdigit() 메소드 : 특정 문자열이 오직 '숫자(digit)'로만 구성되어 있는지 확인 (모두 숫자면 True/아니면(./-) False를 반환)\n",
    "print(cleaned)\n",
    "# 출력: [123.0, 45.0, 7.6]\n"
   ]
  }
 ],
 "metadata": {
  "kernelspec": {
   "display_name": "Python 3",
   "language": "python",
   "name": "python3"
  },
  "language_info": {
   "codemirror_mode": {
    "name": "ipython",
    "version": 3
   },
   "file_extension": ".py",
   "mimetype": "text/x-python",
   "name": "python",
   "nbconvert_exporter": "python",
   "pygments_lexer": "ipython3",
   "version": "3.9.13"
  }
 },
 "nbformat": 4,
 "nbformat_minor": 2
}
