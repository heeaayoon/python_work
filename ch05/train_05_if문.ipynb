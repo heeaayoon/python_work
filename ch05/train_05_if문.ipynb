{
 "cells": [
  {
   "cell_type": "code",
   "execution_count": 1,
   "id": "8cb0518f",
   "metadata": {},
   "outputs": [
    {
     "name": "stdout",
     "output_type": "stream",
     "text": [
      "Audi\n",
      "BMW\n",
      "Subaru\n",
      "Toyota\n"
     ]
    }
   ],
   "source": [
    "cars = ['audi', 'bmw', 'subaru', 'toyota']\n",
    "\n",
    "for car in cars:\n",
    "    if car == 'bmw':\n",
    "        print(car.upper())\n",
    "    else:\n",
    "        print(car.title())"
   ]
  },
  {
   "cell_type": "code",
   "execution_count": null,
   "id": "a5a04e31",
   "metadata": {},
   "outputs": [
    {
     "name": "stdout",
     "output_type": "stream",
     "text": [
      "Audi\n",
      "BMW\n",
      "Subaru\n",
      "Toyota\n"
     ]
    },
    {
     "data": {
      "text/plain": [
       "[None, None, None, None]"
      ]
     },
     "execution_count": 1,
     "metadata": {},
     "output_type": "execute_result"
    }
   ],
   "source": [
    "cars = ['audi', 'bmw', 'subaru', 'toyota']\n",
    "# 간결한 한줄 코딩 익히기\n",
    "[print(car.upper() if car == 'bmw' else car.title()) for car in cars]"
   ]
  },
  {
   "cell_type": "markdown",
   "id": "1a971c97",
   "metadata": {},
   "source": [
    "in 키워드는 파이썬에서 \"어떤 값이 리스트(또는 다른 컬렉션)에 존재하는지 여부를 확인할 때\" 사용\n",
    "\n",
    "in이 사용 가능한 자료형\n",
    "\n",
    "리스트 list:\t3 in [1, 2, 3]\n",
    "\n",
    "튜플 tuple\t: 'a' in ('a', 'b')\n",
    "\n",
    "문자열 str: \t'lo' in 'hello'\n",
    "\n",
    "딕셔너리 dict: \t'key' in {'key': 'value'} → 키만 확인\n",
    "\n",
    "집합 set:\t5 in {1, 2, 3, 5}"
   ]
  },
  {
   "cell_type": "code",
   "execution_count": 8,
   "id": "a1e32a89",
   "metadata": {},
   "outputs": [
    {
     "name": "stdout",
     "output_type": "stream",
     "text": [
      "True\n",
      "False\n",
      "바나나가 있어요!\n",
      "['apple']\n",
      "apple\n",
      "cherry\n"
     ]
    }
   ],
   "source": [
    "#5.2.6 값이 리스트에 있는지 확인하기\n",
    "fruits = ['apple', 'banana', 'cherry']\n",
    "\n",
    "print('apple' in fruits)   # 값이 list에 있는지 확인하는 in 연산 \n",
    "print('grape' in fruits)   # False\n",
    "\n",
    "if 'banana' in fruits:\n",
    "    print(\"바나나가 있어요!\")\n",
    "\n",
    "favorite = ['apple', 'orange']\n",
    "selected = [f for f in fruits if f in favorite] # 리스트 comprehension에서 if 문 사용하기 \n",
    "print(selected)  # ['apple']\n",
    "\n",
    "for fruit in fruits:\n",
    "    if fruit not in ['banana', 'grape']:\n",
    "        print(fruit)"
   ]
  },
  {
   "cell_type": "code",
   "execution_count": 11,
   "id": "bb0ea41e",
   "metadata": {},
   "outputs": [
    {
     "name": "stdout",
     "output_type": "stream",
     "text": [
      "없음\n"
     ]
    }
   ],
   "source": [
    "# 5.4.2 리스트가 비어 있는지 확인\n",
    "#파이썬에서는 \"빈 것은 False, 무언가 있으면 True\" 로 동작한다.\n",
    "#파이썬에서 빈 컨테이너(list, tuple, dict, set, str 등)는 if 문에서 False\n",
    "#파이썬에서 None, 0, 0.0도 if 문에서 False\n",
    "tested = set()\n",
    "if tested:\n",
    "    print(\"있음\")\n",
    "else:\n",
    "    print(\"없음\")\n"
   ]
  },
  {
   "cell_type": "markdown",
   "id": "11815665",
   "metadata": {},
   "source": [
    "- 리스트\t[]\tFalse\n",
    "- 튜플\t()\tFalse\n",
    "- 딕셔너리\t{}\tFalse\n",
    "- 집합\tset()\tFalse\n",
    "- 문자열\t\"\"\tFalse\n",
    "\n",
    "- 0, 0.0\tFalse\n",
    "- None\tFalse\n",
    "- 비어있는 컨테이너\tFalse"
   ]
  }
 ],
 "metadata": {
  "kernelspec": {
   "display_name": "Python 3",
   "language": "python",
   "name": "python3"
  },
  "language_info": {
   "codemirror_mode": {
    "name": "ipython",
    "version": 3
   },
   "file_extension": ".py",
   "mimetype": "text/x-python",
   "name": "python",
   "nbconvert_exporter": "python",
   "pygments_lexer": "ipython3",
   "version": "3.9.13"
  }
 },
 "nbformat": 4,
 "nbformat_minor": 5
}
