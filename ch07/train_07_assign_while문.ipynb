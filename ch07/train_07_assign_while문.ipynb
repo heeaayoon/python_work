{
 "cells": [
  {
   "cell_type": "markdown",
   "id": "ec01396c",
   "metadata": {},
   "source": [
    "과제 1: \n",
    "\n",
    "아래의 리스트를 while문을 이용해 하나씩 출력하세요.\n",
    "\n",
    "fruits = [\"사과\", \"바나나\", \"포도\", \"오렌지\", \"복숭아\"]"
   ]
  },
  {
   "cell_type": "code",
   "execution_count": null,
   "id": "0f55045a",
   "metadata": {},
   "outputs": [],
   "source": [
    "fruits = [\"사과\", \"바나나\", \"포도\", \"오렌지\", \"복숭아\"]"
   ]
  },
  {
   "cell_type": "markdown",
   "id": "b9e8faaf",
   "metadata": {},
   "source": [
    "과제 2: \n",
    "\n",
    "사용자에게 과일 이름을 입력받아 리스트에 저장하되, \"끝\"을 입력하면 입력을 종료하고 리스트를 출력하세요.\n",
    "\n",
    "> 입력 예시 : 사과 → 포도 → 끝\n",
    "\n",
    "> 출력 예시 : ['사과', '포도']"
   ]
  },
  {
   "cell_type": "code",
   "execution_count": null,
   "id": "e69e0db6",
   "metadata": {},
   "outputs": [],
   "source": []
  },
  {
   "cell_type": "markdown",
   "id": "50ab6658",
   "metadata": {},
   "source": [
    "과제 3: \n",
    "\n",
    "딕셔너리에 저장된 학생 이름과 점수에서 80점 이상인 학생 이름만 출력하세요.\n",
    "\n",
    "scores = {\n",
    "    \"홍길동\": 85,\n",
    "    \"김유신\": 76,\n",
    "    \"이순신\": 90,\n",
    "    \"강감찬\": 55,\n",
    "    \"유관순\": 88\n",
    "}"
   ]
  },
  {
   "cell_type": "code",
   "execution_count": null,
   "id": "803c9291",
   "metadata": {},
   "outputs": [],
   "source": [
    "scores = {\n",
    "    \"홍길동\": 85,\n",
    "    \"김유신\": 76,\n",
    "    \"이순신\": 90,\n",
    "    \"강감찬\": 55,\n",
    "    \"유관순\": 88\n",
    "}"
   ]
  },
  {
   "cell_type": "markdown",
   "id": "02b43c0a",
   "metadata": {},
   "source": [
    "과제 4: \n",
    "\n",
    "사용자에게 뜻을 주고 단어를 맞히게 하세요. 총 3문제 출제 후 맞힌 개수를 출력하세요.\n",
    "\n",
    "quiz = {\n",
    "    \"apple\": \"사과\",\n",
    "    \"banana\": \"바나나\",\n",
    "    \"grape\": \"포도\"\n",
    "}"
   ]
  },
  {
   "cell_type": "code",
   "execution_count": null,
   "id": "2ade0901",
   "metadata": {},
   "outputs": [],
   "source": [
    "quiz = {\n",
    "    \"apple\": \"사과\",\n",
    "    \"banana\": \"바나나\",\n",
    "    \"grape\": \"포도\"\n",
    "}"
   ]
  },
  {
   "cell_type": "markdown",
   "id": "b8452433",
   "metadata": {},
   "source": [
    "과제 5: \n",
    "\n",
    "사용자에게 이름과 나이를 입력받아 딕셔너리에 저장하세요. \"종료\"라고 입력하면 저장을 멈추고 전체를 출력하세요.\n",
    "\n",
    "> 입력 예시:\n",
    "> 이름: 홍길동 / 나이: 21\n",
    "\n",
    "> 출력 예시 : \n",
    "> {'홍길동': 21}"
   ]
  },
  {
   "cell_type": "code",
   "execution_count": null,
   "id": "b058e034",
   "metadata": {},
   "outputs": [],
   "source": []
  },
  {
   "cell_type": "markdown",
   "id": "fd0f5173",
   "metadata": {},
   "source": [
    "과제6: 점수 등록 시스템\n",
    "- 사용자가 이름과 점수를 계속 입력하면 딕셔너리에 저장하고, 평균 점수와 최고 점수를 구해보는 과제\n",
    "- n등을 출력해보기 -> slicing 이용\n",
    "\n",
    "> 저장 형식 예시: {'홍길동': 90, '김유신': 85, ...}"
   ]
  },
  {
   "cell_type": "code",
   "execution_count": null,
   "id": "61b33708",
   "metadata": {},
   "outputs": [],
   "source": []
  }
 ],
 "metadata": {
  "language_info": {
   "name": "python"
  }
 },
 "nbformat": 4,
 "nbformat_minor": 5
}
