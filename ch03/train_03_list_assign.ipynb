{
 "cells": [
  {
   "cell_type": "code",
   "execution_count": null,
   "metadata": {},
   "outputs": [],
   "source": [
    "# 실습과제1_3,4장_리스트\n",
    "# 빈 cars 리스트 생성\n",
    "cars = []\n",
    "\n",
    "# 자동차 리스트에 자동차 이름 추가 (append, insert 사용)\n",
    "\n",
    "# 세 번째 위치에 삽입\n",
    "\n",
    "\n",
    "# f-문자열과 리스트 인덱스를 사용하여 첫 번째와 마지막 요소 출력\n",
    "\n",
    "\n",
    "# 정렬하기 전의 리스트 출력\n",
    "print(f\"\\n정렬 전 자동차 리스트: {cars}\")\n",
    "\n",
    "# 리스트 정렬\n",
    "\n",
    "\n",
    "# 정렬 후의 리스트 출력\n",
    "print(f\"\\n정렬 후 자동차 리스트: {cars}\")\n",
    "\n",
    "# 정렬된 리스트를 for loop로 각 행에 하나씩 출력\n",
    "print(\"정렬된 자동차 리스트:\")\n"
   ]
  }
 ],
 "metadata": {
  "language_info": {
   "name": "python"
  }
 },
 "nbformat": 4,
 "nbformat_minor": 2
}
