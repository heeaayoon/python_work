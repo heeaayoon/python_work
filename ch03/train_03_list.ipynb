{
 "cells": [
  {
   "cell_type": "code",
   "execution_count": 15,
   "metadata": {},
   "outputs": [
    {
     "name": "stdout",
     "output_type": "stream",
     "text": [
      "Cannondale\n",
      "redline\n",
      "my first bike was a Redline\n",
      "['redline', 'specialized', 'myCar']\n"
     ]
    }
   ],
   "source": [
    "bycycles=['trek','cannondale','redline','specialized']\n",
    "print(bycycles[1].title())\n",
    "print(bycycles[-2])\n",
    "bycycles.append('myCar')\n",
    "msg=f'my first bike was a {bycycles[2].title()}'\n",
    "print(msg)\n",
    "del bycycles[1:2]\n",
    "#first_bike= bycycles.pop(0)\n",
    "bycycles.remove('trek')\n",
    "print(bycycles)\n",
    "#print(first_bike)\n"
   ]
  },
  {
   "cell_type": "code",
   "execution_count": 16,
   "metadata": {},
   "outputs": [
    {
     "name": "stdout",
     "output_type": "stream",
     "text": [
      "첫 번째 자동차: 현대 제네시스\n",
      "마지막 자동차: 르노 SM6\n",
      "\n",
      "정렬 전 자동차 리스트: ['현대 제네시스', '기아 K9', 'KGN 렉스콘 스포츠', 'BMW 5 시리즈', '르노 SM6']\n",
      "\n",
      "정렬 후 자동차 리스트: ['BMW 5 시리즈', 'KGN 렉스콘 스포츠', '기아 K9', '르노 SM6', '현대 제네시스']\n",
      "정렬된 자동차 리스트:\n",
      "BMW 5 시리즈\n",
      "KGN 렉스콘 스포츠\n",
      "기아 K9\n",
      "르노 SM6\n",
      "현대 제네시스\n"
     ]
    }
   ],
   "source": [
    "# 실습과제1_3,4장_리스트\n",
    "# 빈 cars 리스트 생성\n",
    "cars = []\n",
    "\n",
    "# 자동차 리스트에 자동차 이름 추가 (append, insert 사용)\n",
    "cars.append(\"현대 제네시스\")\n",
    "cars.append(\"기아 K9\")\n",
    "cars.insert(2, \"KGN 렉스콘 스포츠\")  # 세 번째 위치에 삽입\n",
    "cars.append(\"BMW 5 시리즈\")\n",
    "cars.append(\"르노 SM6\")\n",
    "\n",
    "# f-문자열과 리스트 인덱스를 사용하여 첫 번째와 마지막 요소 출력\n",
    "print(f\"첫 번째 자동차: {cars[0]}\")\n",
    "print(f\"마지막 자동차: {cars[-1]}\")\n",
    "\n",
    "# 정렬하기 전의 리스트 출력\n",
    "print(f\"\\n정렬 전 자동차 리스트: {cars}\")\n",
    "\n",
    "# 리스트 정렬\n",
    "cars.sort()\n",
    "\n",
    "# 정렬 후의 리스트 출력\n",
    "print(f\"\\n정렬 후 자동차 리스트: {cars}\")\n",
    "\n",
    "# 정렬된 리스트를 for loop로 각 행에 하나씩 출력\n",
    "print(\"정렬된 자동차 리스트:\")\n",
    "for car in cars:\n",
    "    print(car)"
   ]
  },
  {
   "cell_type": "code",
   "execution_count": 23,
   "metadata": {},
   "outputs": [
    {
     "name": "stdout",
     "output_type": "stream",
     "text": [
      "['toyota', 'subaru', 'bmw', 'audi']\n",
      "['bmw', 'audi', 'toyota', 'subaru']\n",
      "['audi', 'bmw', 'subaru', 'toyota']\n",
      "['toyota', 'subaru', 'bmw', 'audi']\n",
      "4\n"
     ]
    },
    {
     "ename": "IndexError",
     "evalue": "list index out of range",
     "output_type": "error",
     "traceback": [
      "\u001b[1;31m---------------------------------------------------------------------------\u001b[0m",
      "\u001b[1;31mIndexError\u001b[0m                                Traceback (most recent call last)",
      "Cell \u001b[1;32mIn[23], line 9\u001b[0m\n\u001b[0;32m      7\u001b[0m \u001b[38;5;28mprint\u001b[39m(cars)\n\u001b[0;32m      8\u001b[0m \u001b[38;5;28mprint\u001b[39m(\u001b[38;5;28mlen\u001b[39m(cars))\n\u001b[1;32m----> 9\u001b[0m \u001b[38;5;28mprint\u001b[39m(\u001b[43mcars\u001b[49m\u001b[43m[\u001b[49m\u001b[38;5;241;43m4\u001b[39;49m\u001b[43m]\u001b[49m)\n",
      "\u001b[1;31mIndexError\u001b[0m: list index out of range"
     ]
    }
   ],
   "source": [
    "cars=['bmw','audi','toyota','subaru']\n",
    "print(sorted(cars, reverse=True))\n",
    "print(cars)\n",
    "cars.sort()\n",
    "print(cars)\n",
    "cars.reverse()\n",
    "print(cars)\n",
    "print(len(cars))\n",
    "print(cars[4])"
   ]
  }
 ],
 "metadata": {
  "kernelspec": {
   "display_name": "Python 3",
   "language": "python",
   "name": "python3"
  },
  "language_info": {
   "codemirror_mode": {
    "name": "ipython",
    "version": 3
   },
   "file_extension": ".py",
   "mimetype": "text/x-python",
   "name": "python",
   "nbconvert_exporter": "python",
   "pygments_lexer": "ipython3",
   "version": "3.9.13"
  }
 },
 "nbformat": 4,
 "nbformat_minor": 2
}
