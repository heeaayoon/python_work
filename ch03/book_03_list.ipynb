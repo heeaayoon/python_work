{
 "cells": [
  {
   "cell_type": "code",
   "execution_count": 11,
   "id": "b074c1d9",
   "metadata": {},
   "outputs": [
    {
     "name": "stdout",
     "output_type": "stream",
     "text": [
      "['trek', 'cannon', 'red', 'sp', 'dfff', 'ekek']\n"
     ]
    }
   ],
   "source": [
    "#3.1 리스트 생성\n",
    "bicycles = ['trek','cannon','red','sp','dfff','ekek']\n",
    "print(bicycles)"
   ]
  },
  {
   "cell_type": "code",
   "execution_count": 12,
   "id": "f969b236",
   "metadata": {},
   "outputs": [
    {
     "name": "stdout",
     "output_type": "stream",
     "text": [
      "[0, 0, 0, 0, 0, 0, 0, 0, 0, 0]\n"
     ]
    }
   ],
   "source": [
    "zeros = [0]*10\n",
    "print(zeros)"
   ]
  },
  {
   "cell_type": "code",
   "execution_count": null,
   "id": "96616bcb",
   "metadata": {},
   "outputs": [
    {
     "name": "stdout",
     "output_type": "stream",
     "text": [
      "cannon\n",
      "Ekek\n",
      "Dfff\n",
      "['trek', 'cannon', 'red', 'sp', 'dfff']\n",
      "['trek', 'cannon', 'red', 'sp']\n",
      "['cannon', 'sp', 'ekek']\n",
      "['ekek', 'dfff', 'sp', 'red', 'cannon', 'trek']\n"
     ]
    }
   ],
   "source": [
    "#3.1.1 리스트 요소에 접근\n",
    "print(bicycles[1])\n",
    "print(bicycles[-1].title())\n",
    "print(bicycles[-2].title())\n",
    "#print(bicycles[0:-1].title) #'list' object has no attribute 'title' -> 리스트 안의 여러 요소에 title() 적용하기 위해서는 for문 사용하는게 더 적합함\n",
    "\n",
    "#3.1.2 Slicing \n",
    "# a[start:stop]\tstart부터 stop-1까지\n",
    "# a[:]\t전체 복사 \n",
    "# a[::step]\tstep 간격으로 전체 추출\n",
    "# 음수 인덱스 : 뒤에서부터 세기 \n",
    "# a[-n:]\t마지막 n개 요소\n",
    "# a[::-1]\t순서 뒤집기 \n",
    "print(bicycles[0:-1])\n",
    "print(bicycles[0:-2])\n",
    "print(bicycles[1::2])\n",
    "print(bicycles[::-1])"
   ]
  },
  {
   "cell_type": "code",
   "execution_count": null,
   "id": "c4453ce5",
   "metadata": {},
   "outputs": [
    {
     "name": "stdout",
     "output_type": "stream",
     "text": [
      "['삼천리', 'cannon', 'red', 'sp', 'dfff', 'ekek']\n",
      "['삼천리', 'cannon', 'red', 'dfff', 'ekek']\n",
      "['삼천리', 'cannon', 'red', 'dfff']\n",
      "ekek\n",
      "['cannon', 'red', 'dfff']\n",
      "['cannon', 'dfff']\n"
     ]
    }
   ],
   "source": [
    "bicycles = ['trek','cannon','red','sp','dfff','ekek']\n",
    "#3.2.1 리스트 요소 수정\n",
    "bicycles[0] = '삼천리'\n",
    "print(bicycles)\n",
    "#3.2.2 리스트 요소 추가\n",
    "#bicycles.append('산악') #append(ele) : 리스트 맨 마지막에 요소 추가\n",
    "#print(bicycles)\n",
    "#bicycles.insert(2,'현대') #insert(idx,ele) : 해당 인덱스에 요소 추가\n",
    "#print(bicycles)\n",
    "#3.2.3 리스트 요소 제거\n",
    "del bicycles[3] #del : 제거할 요소의 인덱스를 알고 있을 때만 사용\n",
    "print(bicycles)\n",
    "bike = bicycles.pop() #pop() : 리스트 맨 마지막 요소를 삭제 / 삭제한 요소를 반환\n",
    "print(bicycles)\n",
    "print(bike)\n",
    "bicycles.pop(0) #pop(idx) : 해당 인덱스의 요소를 삭제\n",
    "print(bicycles)\n",
    "bicycles.remove('red') #remove(ele) : 제거할 요소의 값만 알고 있을 때 사용\n",
    "print(bicycles)"
   ]
  },
  {
   "cell_type": "code",
   "execution_count": null,
   "id": "e11085ec",
   "metadata": {},
   "outputs": [
    {
     "name": "stdout",
     "output_type": "stream",
     "text": [
      "['audi', 'bmw', 'k5', 'sorento', 'toyota']\n",
      "['toyota', 'sorento', 'k5', 'bmw', 'audi']\n",
      "['bmw', 'audi', 'toyota', 'k5', 'sorento']\n",
      "['sorento', 'k5', 'toyota', 'audi', 'bmw']\n",
      "None\n"
     ]
    }
   ],
   "source": [
    "#3.3 리스트 정렬하기\n",
    "cars = ['bmw','audi','toyota','k5','sorento']\n",
    "#cars.sort() #sort() : 리스트 자체를 정렬 -> 메소드\n",
    "#print(cars)\n",
    "print(sorted(cars)) #sorted() : 리스트 자체는 정렬하지 않고 정렬된 결과만 출력 -> 메소드가 아님/라이브러리 함수\n",
    "print(sorted(cars, reverse=True)) #reverse=True가 인수로 들어가면 역순으로 정렬됨 -> sort()도 적용\n",
    "print(cars) # 리스트 자체는 정렬되지 않음\n",
    "#3.3.3 역순으로 리스트 출력\n",
    "cars.reverse() #reverse() : 역순으로 리스트를 출력함\n",
    "print(cars)\n"
   ]
  },
  {
   "cell_type": "code",
   "execution_count": 54,
   "id": "ded485ed",
   "metadata": {},
   "outputs": [
    {
     "name": "stdout",
     "output_type": "stream",
     "text": [
      "bmw\n"
     ]
    }
   ],
   "source": [
    "#3.4 에러 피하기\n",
    "#print(cars[5]) # list index out of range -> 리스트를 벗어난 요소에 접근하려함(오류)\n",
    "print(cars[-1]) # -1 인덱스는 리스트의 마지막 요소에 접근함"
   ]
  }
 ],
 "metadata": {
  "kernelspec": {
   "display_name": "Python 3",
   "language": "python",
   "name": "python3"
  },
  "language_info": {
   "codemirror_mode": {
    "name": "ipython",
    "version": 3
   },
   "file_extension": ".py",
   "mimetype": "text/x-python",
   "name": "python",
   "nbconvert_exporter": "python",
   "pygments_lexer": "ipython3",
   "version": "3.9.13"
  }
 },
 "nbformat": 4,
 "nbformat_minor": 5
}
